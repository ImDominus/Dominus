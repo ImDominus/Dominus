{
 "cells": [
  {
   "cell_type": "code",
   "execution_count": 1,
   "metadata": {},
   "outputs": [],
   "source": [
    "\n",
    "# Result : 0.52 Loss\n",
    "\n",
    "import numpy as np\n",
    "import pandas as pd\n",
    "import matplotlib.pyplot as plt\n",
    "import torch\n",
    "import torch.nn as nn\n",
    "import torch.nn.functional as F\n",
    "from bisect import bisect_left, bisect_right\n",
    "from torch.utils.data import TensorDataset, DataLoader"
   ]
  },
  {
   "cell_type": "code",
   "execution_count": 2,
   "metadata": {},
   "outputs": [],
   "source": [
    "def read_csv(file_name):\n",
    "    train_data = pd.read_csv(file_name)\n",
    "    X = train_data.iloc[:, 1:-1]\n",
    "    y = train_data.iloc[:, -1]\n",
    "    return X, y"
   ]
  },
  {
   "cell_type": "code",
   "execution_count": 3,
   "metadata": {},
   "outputs": [],
   "source": [
    "file_name = \"train.csv\"\n",
    "train_data_X, train_data_y = read_csv(file_name)"
   ]
  },
  {
   "cell_type": "code",
   "execution_count": 4,
   "metadata": {},
   "outputs": [],
   "source": [
    "for i in train_data_X:\n",
    "    value = pd.value_counts(train_data_X[i].isna())\n",
    "    if (value[False] < len(train_data_y)):\n",
    "        print(value)"
   ]
  },
  {
   "cell_type": "code",
   "execution_count": 5,
   "metadata": {},
   "outputs": [
    {
     "data": {
      "image/png": "[encoded data removed]",
      "text/plain": [
       "<matplotlib.figure.Figure at 0x24bf17a0b70>"
      ]
     },
     "metadata": {},
     "output_type": "display_data"
    }
   ],
   "source": [
    "x = [\"Class_\" + str(i) for i in range(1, 10)]\n",
    "y = [bisect_right(train_data_y, \"Class_\" + str(i)) - bisect_left(train_data_y, \"Class_\" + str(i)) for i in range(1, 10)]\n",
    "plt.bar(x, y, color=\"purple\")\n",
    "plt.show()"
   ]
  },
  {
   "cell_type": "code",
   "execution_count": 6,
   "metadata": {},
   "outputs": [
    {
     "name": "stdout",
     "output_type": "stream",
     "text": [
      "{'Class_1': 0, 'Class_2': 1, 'Class_3': 2, 'Class_4': 3, 'Class_5': 4, 'Class_6': 5, 'Class_7': 6, 'Class_8': 7, 'Class_9': 8}\n"
     ]
    }
   ],
   "source": [
    "word_to_ix = dict()\n",
    "for class_value in x:\n",
    "    word_to_ix[class_value] = int(class_value[-1]) - 1\n",
    "print(word_to_ix)\n",
    "for i, v in enumerate(train_data_y):\n",
    "    train_data_y[i] = word_to_ix[v]"
   ]
  },
  {
   "cell_type": "code",
   "execution_count": 7,
   "metadata": {},
   "outputs": [],
   "source": [
    "X_train = torch.from_numpy(train_data_X.values.astype(np.float32))\n",
    "y_train = torch.from_numpy(train_data_y.values.astype(np.int64))"
   ]
  },
  {
   "cell_type": "code",
   "execution_count": 8,
   "metadata": {},
   "outputs": [],
   "source": [
    "class AutoEncoder(nn.Module):\n",
    "    def __init__(self, feature_size):\n",
    "        super(AutoEncoder, self).__init__()\n",
    "        self.fc1 = Encoder(feature_size)\n",
    "        self.fc2 = Decoder(feature_size)\n",
    "    \n",
    "    def forward(self, x):\n",
    "        x = self.fc1(x)\n",
    "        x = self.fc2(x)\n",
    "        return x"
   ]
  },
  {
   "cell_type": "code",
   "execution_count": 9,
   "metadata": {},
   "outputs": [],
   "source": [
    "class Encoder(nn.Module):\n",
    "    def __init__(self, feature_size):\n",
    "        super(Encoder, self).__init__()\n",
    "        first_size = (feature_size // 4) * 3\n",
    "        latent_size = feature_size // 2\n",
    "        self.fc1 = nn.Linear(feature_size, first_size)\n",
    "        self.bn1 = nn.BatchNorm1d(first_size)\n",
    "        self.fc2 = nn.Linear(first_size, latent_size)\n",
    "        self.bn2 = nn.BatchNorm1d(latent_size)\n",
    "    \n",
    "    def forward(self, x):\n",
    "        x = F.relu(self.bn1(self.fc1(x)))\n",
    "        x = F.relu(self.bn2(self.fc2(x)))\n",
    "        return x"
   ]
  },
  {
   "cell_type": "code",
   "execution_count": 10,
   "metadata": {},
   "outputs": [],
   "source": [
    "class Decoder(nn.Module):\n",
    "    def __init__(self, feature_size):\n",
    "        super(Decoder, self).__init__()\n",
    "        first_size = (feature_size // 4) * 3\n",
    "        latent_size = feature_size // 2\n",
    "        self.fc1 = nn.Linear(latent_size, first_size)\n",
    "        self.bn1 = nn.BatchNorm1d(first_size)\n",
    "        self.fc2 = nn.Linear(first_size, feature_size)\n",
    "    \n",
    "    def forward(self, x):\n",
    "        x = F.relu(self.bn1(self.fc1(x)))\n",
    "        x = self.fc2(x)\n",
    "        return x"
   ]
  },
  {
   "cell_type": "code",
   "execution_count": 11,
   "metadata": {},
   "outputs": [],
   "source": [
    "class Neural_Network(nn.Module):\n",
    "    def __init__(self, feature_size):\n",
    "        super(Neural_Network, self).__init__()\n",
    "        self.fc1 = nn.Linear(feature_size // 2, 32)\n",
    "        self.bn1 = nn.BatchNorm1d(32)\n",
    "        self.fc2 = nn.Linear(32, 16)\n",
    "        self.bn2 = nn.BatchNorm1d(16)\n",
    "        self.fc3 = nn.Linear(16, 9)\n",
    "    \n",
    "    def forward(self, x):\n",
    "        x = F.relu(self.bn1(self.fc1(x)))\n",
    "        x = F.relu(self.bn2(self.fc2(x)))\n",
    "        x = self.fc3(x)\n",
    "        return F.log_softmax(x, dim = 1)"
   ]
  },
  {
   "cell_type": "code",
   "execution_count": 12,
   "metadata": {},
   "outputs": [
    {
     "name": "stdout",
     "output_type": "stream",
     "text": [
      "AutoEncoder(\n",
      "  (fc1): Encoder(\n",
      "    (fc1): Linear(in_features=93, out_features=69, bias=True)\n",
      "    (bn1): BatchNorm1d(69, eps=1e-05, momentum=0.1, affine=True, track_running_stats=True)\n",
      "    (fc2): Linear(in_features=69, out_features=46, bias=True)\n",
      "    (bn2): BatchNorm1d(46, eps=1e-05, momentum=0.1, affine=True, track_running_stats=True)\n",
      "  )\n",
      "  (fc2): Decoder(\n",
      "    (fc1): Linear(in_features=46, out_features=69, bias=True)\n",
      "    (bn1): BatchNorm1d(69, eps=1e-05, momentum=0.1, affine=True, track_running_stats=True)\n",
      "    (fc2): Linear(in_features=69, out_features=93, bias=True)\n",
      "  )\n",
      ")\n",
      "Neural_Network(\n",
      "  (fc1): Linear(in_features=46, out_features=32, bias=True)\n",
      "  (bn1): BatchNorm1d(32, eps=1e-05, momentum=0.1, affine=True, track_running_stats=True)\n",
      "  (fc2): Linear(in_features=32, out_features=16, bias=True)\n",
      "  (bn2): BatchNorm1d(16, eps=1e-05, momentum=0.1, affine=True, track_running_stats=True)\n",
      "  (fc3): Linear(in_features=16, out_features=9, bias=True)\n",
      ")\n"
     ]
    }
   ],
   "source": [
    "loader_AE = DataLoader(TensorDataset(X_train, X_train), batch_size = 256, shuffle=True)\n",
    "network_AE = AutoEncoder(X_train.shape[1])\n",
    "optimizer_AE = torch.optim.Adam(network_AE.parameters(), 2e-3)\n",
    "criterion_AE = nn.MSELoss()\n",
    "\n",
    "loader_NN = DataLoader(TensorDataset(X_train, y_train), batch_size = 256, shuffle=True)\n",
    "network_NN = Neural_Network(X_train.shape[1])\n",
    "optimizer_NN = torch.optim.Adam(network_NN.parameters(), 2e-3)\n",
    "criterion_NN = nn.NLLLoss()\n",
    "\n",
    "print(network_AE)\n",
    "print(network_NN)"
   ]
  },
  {
   "cell_type": "code",
   "execution_count": 13,
   "metadata": {},
   "outputs": [
    {
     "name": "stdout",
     "output_type": "stream",
     "text": [
      "Epoch 0, Iterations 0, Loss = 6.166\n",
      "Epoch 20, Iterations 5000, Loss = 0.522\n",
      "Epoch 41, Iterations 10000, Loss = 0.323\n",
      "Epoch 61, Iterations 15000, Loss = 0.619\n",
      "Epoch 82, Iterations 20000, Loss = 0.330\n",
      "Epoch 103, Iterations 25000, Loss = 0.320\n",
      "Epoch 123, Iterations 30000, Loss = 0.411\n",
      "Epoch 144, Iterations 35000, Loss = 0.317\n",
      "Epoch 165, Iterations 40000, Loss = 0.269\n",
      "Epoch 185, Iterations 45000, Loss = 0.258\n",
      "Epoch 206, Iterations 50000, Loss = 0.378\n",
      "Epoch 227, Iterations 55000, Loss = 0.271\n",
      "Epoch 247, Iterations 60000, Loss = 0.270\n",
      "Epoch 268, Iterations 65000, Loss = 0.319\n",
      "Epoch 289, Iterations 70000, Loss = 0.351\n"
     ]
    }
   ],
   "source": [
    "iterations_AE = []\n",
    "loss_graph_AE = []\n",
    "# Training AutoEncoder\n",
    "i = 0\n",
    "n = 300\n",
    "for epoch in range(n):\n",
    "    for x_batch, y_batch in loader_AE:\n",
    "        optimizer_AE.zero_grad()\n",
    "        outputs = network_AE(x_batch)\n",
    "        loss = criterion_AE(outputs, x_batch)\n",
    "        loss.backward()\n",
    "        optimizer_AE.step()\n",
    "        if (i % 50 == 0):\n",
    "            iterations_AE.append(i)\n",
    "            loss_graph_AE.append(loss.item())\n",
    "        if (i % 5000 == 0):\n",
    "            print(\"Epoch %d, Iterations %d, Loss = %.3f\" % (epoch, i, loss.item()))\n",
    "        i += 1"
   ]
  },
  {
   "cell_type": "code",
   "execution_count": 14,
   "metadata": {},
   "outputs": [
    {
     "name": "stdout",
     "output_type": "stream",
     "text": [
      "Epoch 0, Iterations 0, Loss = 2.218\n",
      "Epoch 0, Acc = 64.091\n",
      "Epoch 12, Iterations 3000, Loss = 0.572\n",
      "Epoch 20, Acc = 77.735\n",
      "Epoch 24, Iterations 6000, Loss = 0.627\n",
      "Epoch 37, Iterations 9000, Loss = 0.535\n",
      "Epoch 40, Acc = 78.403\n",
      "Epoch 49, Iterations 12000, Loss = 0.625\n",
      "Epoch 60, Acc = 78.464\n",
      "Epoch 61, Iterations 15000, Loss = 0.511\n",
      "Epoch 74, Iterations 18000, Loss = 0.569\n",
      "Epoch 80, Acc = 78.606\n",
      "Epoch 86, Iterations 21000, Loss = 0.562\n",
      "Epoch 99, Iterations 24000, Loss = 0.500\n",
      "Epoch 100, Acc = 78.761\n",
      "Epoch 111, Iterations 27000, Loss = 0.544\n",
      "Epoch 120, Acc = 78.925\n",
      "Epoch 123, Iterations 30000, Loss = 0.572\n",
      "Epoch 136, Iterations 33000, Loss = 0.488\n",
      "Epoch 140, Acc = 78.993\n",
      "Epoch 148, Iterations 36000, Loss = 0.506\n",
      "Epoch 160, Acc = 79.005\n",
      "Epoch 161, Iterations 39000, Loss = 0.581\n",
      "Epoch 173, Iterations 42000, Loss = 0.505\n",
      "Epoch 180, Acc = 79.022\n",
      "Epoch 185, Iterations 45000, Loss = 0.526\n",
      "Epoch 198, Iterations 48000, Loss = 0.573\n",
      "Epoch 200, Acc = 79.199\n",
      "Epoch 210, Iterations 51000, Loss = 0.577\n",
      "Epoch 220, Acc = 79.282\n",
      "Epoch 223, Iterations 54000, Loss = 0.590\n",
      "Epoch 235, Iterations 57000, Loss = 0.527\n",
      "Epoch 240, Acc = 79.182\n",
      "Epoch 247, Iterations 60000, Loss = 0.550\n",
      "Epoch 260, Iterations 63000, Loss = 0.540\n",
      "Epoch 260, Acc = 79.283\n",
      "Epoch 272, Iterations 66000, Loss = 0.537\n",
      "Epoch 280, Acc = 79.282\n",
      "Epoch 285, Iterations 69000, Loss = 0.477\n",
      "Epoch 297, Iterations 72000, Loss = 0.503\n"
     ]
    }
   ],
   "source": [
    "iterations_NN = []\n",
    "loss_graph_NN = []\n",
    "iter_acc = []\n",
    "acc_NN = []\n",
    "# Training Model\n",
    "i = 0\n",
    "network_AE.eval()\n",
    "for epoch in range(n):\n",
    "    j = 0\n",
    "    for x_batch, y_batch in loader_NN:\n",
    "        optimizer_NN.zero_grad()\n",
    "        latent_X = network_AE.fc1(x_batch)\n",
    "        outputs = network_NN(latent_X)\n",
    "        loss = criterion_NN(outputs, y_batch)\n",
    "        loss.backward()\n",
    "        optimizer_NN.step()\n",
    "        if (epoch % 5 == 0):\n",
    "            predicted = torch.argmax(outputs, dim = 1)\n",
    "            j += (predicted == y_batch).sum().item()\n",
    "            iterations_NN.append(i)\n",
    "            loss_graph_NN.append(loss.item())\n",
    "        if (i % 3000 == 0):\n",
    "            print(\"Epoch %d, Iterations %d, Loss = %.3f\" % (epoch, i, loss.item()))\n",
    "        i += 1\n",
    "    if (epoch % 5 == 0):\n",
    "        iter_acc.append(epoch)\n",
    "        acc_NN.append(j / X_train.shape[0] * 100)\n",
    "        if (epoch % 20 == 0):\n",
    "            print(\"Epoch %d, Acc = %.3f\" % (epoch, acc_NN[-1]))"
   ]
  },
  {
   "cell_type": "code",
   "execution_count": 15,
   "metadata": {},
   "outputs": [
    {
     "data": {
      "image/png": "[encoded data removed]",
      "text/plain": [
       "<matplotlib.figure.Figure at 0x24b815cda58>"
      ]
     },
     "metadata": {},
     "output_type": "display_data"
    }
   ],
   "source": [
    "fig = plt.figure()\n",
    "ax1 = fig.add_subplot(1, 3, 1)\n",
    "ax2 = fig.add_subplot(1, 3, 2)\n",
    "ax3 = fig.add_subplot(1, 3, 3)\n",
    "fig.set_figwidth(15)\n",
    "fig.set_figwidth(15)\n",
    "\n",
    "ax1.plot(iterations_AE, loss_graph_AE)\n",
    "ax1.set_title(\"AE_iters_Loss\")\n",
    "ax2.plot(iterations_NN, loss_graph_NN)\n",
    "ax2.set_title(\"NN_iters_Loss\")\n",
    "ax3.plot(iter_acc, acc_NN)\n",
    "ax3.set_title(\"Train_acc\")\n",
    "plt.show()"
   ]
  },
  {
   "cell_type": "code",
   "execution_count": 16,
   "metadata": {},
   "outputs": [],
   "source": [
    "def read_test_csv(file_name):\n",
    "    test_data = pd.read_csv(file_name)\n",
    "    X = test_data.iloc[:, 1:]\n",
    "    return X"
   ]
  },
  {
   "cell_type": "code",
   "execution_count": 17,
   "metadata": {},
   "outputs": [],
   "source": [
    "file_name = \"test.csv\"\n",
    "test_data_X = read_test_csv(file_name)\n",
    "test_data_X = torch.from_numpy(test_data_X.values.astype(np.float32))\n",
    "loader_test = DataLoader(TensorDataset(test_data_X), batch_size = 256)"
   ]
  },
  {
   "cell_type": "code",
   "execution_count": 18,
   "metadata": {},
   "outputs": [],
   "source": [
    "network_NN.eval()\n",
    "result = np.zeros((test_data_X.shape[0], 9))\n",
    "i = 0\n",
    "for x_batch in loader_test:\n",
    "    latent_X = network_AE.fc1(x_batch[0])\n",
    "    outputs = network_NN(latent_X)\n",
    "    predict = torch.exp(outputs)\n",
    "    result[np.arange(i, min(i + 256, test_data_X.shape[0]))] = predict.data\n",
    "    i += 256"
   ]
  },
  {
   "cell_type": "code",
   "execution_count": 19,
   "metadata": {},
   "outputs": [],
   "source": [
    "df = pd.DataFrame(data = result, index = np.arange(1, test_data_X.shape[0] + 1), columns=word_to_ix.keys())\n",
    "df.index.name = \"id\""
   ]
  },
  {
   "cell_type": "code",
   "execution_count": 20,
   "metadata": {},
   "outputs": [],
   "source": [
    "df.to_csv(\"result.csv\", index = True)"
   ]
  },
  {
   "cell_type": "code",
   "execution_count": null,
   "metadata": {},
   "outputs": [],
   "source": []
  }
 ],
 "metadata": {
  "kernelspec": {
   "display_name": "Python 3",
   "language": "python",
   "name": "python3"
  },
  "language_info": {
   "codemirror_mode": {
    "name": "ipython",
    "version": 3
   },
   "file_extension": ".py",
   "mimetype": "text/x-python",
   "name": "python",
   "nbconvert_exporter": "python",
   "pygments_lexer": "ipython3",
   "version": "3.6.4"
  }
 },
 "nbformat": 4,
 "nbformat_minor": 2
}
