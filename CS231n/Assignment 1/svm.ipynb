{
 "cells": [
  {
   "cell_type": "code",
   "execution_count": 1,
   "metadata": {
    "collapsed": true
   },
   "outputs": [],
   "source": [
    "import numpy as np\n",
    "import matplotlib.pyplot as plt\n",
    "import struct\n",
    "import pickle #To use cifar-10\n",
    "\n",
    "%matplotlib inline"
   ]
  },
  {
   "cell_type": "code",
   "execution_count": 2,
   "metadata": {
    "collapsed": true
   },
   "outputs": [],
   "source": [
    "#Load trainset_CIFAR_10\n",
    "#https://www.cs.toronto.edu/~kriz/cifar.html\n",
    "def unpickle_trainset_CIFAR_10(file):\n",
    "    dicts = dict()\n",
    "    for i in range(1, 6):   #This dataset is divided into 5 files.\n",
    "        if i == 1:\n",
    "            file_dict = pickle.load(open(file + str(i), 'rb'), encoding = 'bytes')\n",
    "            dicts[b'data'] = file_dict[b'data']\n",
    "            dicts[b'labels'] = file_dict[b'labels']\n",
    "        else:\n",
    "            file_dict = pickle.load(open(file + str(i), 'rb'), encoding = 'bytes')\n",
    "            dicts[b'data'] = np.concatenate((dicts[b'data'], file_dict[b'data']))\n",
    "            dicts[b'labels'] += file_dict[b'labels']\n",
    "    return dicts\n",
    "\n",
    "#Load testset_CIFAR_10\n",
    "def unpickle_testset_CIFAR_10(file):\n",
    "    dicts = pickle.load(open(file, 'rb'), encoding = 'bytes')\n",
    "    return dicts\n",
    "\n",
    "#Load MNIST\n",
    "#http://yann.lecun.com/exdb/mnist/\n",
    "def unpickle_MNIST(image, label):\n",
    "    #Read Image data\n",
    "    image_set = open(image, 'rb')\n",
    "    magic_number = struct.unpack(\">i\", image_set.read(4))[0]\n",
    "    number_images = struct.unpack(\">i\", image_set.read(4))[0]\n",
    "    rows = struct.unpack(\">i\", image_set.read(4))[0]\n",
    "    cols = struct.unpack(\">i\", image_set.read(4))[0]\n",
    "    image_set_data = np.reshape(np.fromstring(image_set.read(), dtype = np.uint8), (number_images, rows * cols))\n",
    "    image_set.close()\n",
    "    #Read Label data\n",
    "    label_set = open(label, 'rb')\n",
    "    magic_number = struct.unpack(\">i\", label_set.read(4))[0]\n",
    "    number_of_items = struct.unpack(\">i\", label_set.read(4))[0]\n",
    "    label_set_data = np.reshape(np.fromstring(label_set.read(), dtype = np.uint8), (number_of_items))\n",
    "    label_set.close()    \n",
    "    return image_set_data, label_set_data"
   ]
  },
  {
   "cell_type": "code",
   "execution_count": 3,
   "metadata": {
    "collapsed": true
   },
   "outputs": [],
   "source": [
    "def shuffle(X, y):\n",
    "    \"\"\"\n",
    "    Argument:\n",
    "    X -- all training_data\n",
    "    y -- all training_label\n",
    "    \n",
    "    Return:\n",
    "    X_train -- training_dataset\n",
    "    y_train -- training_labelset\n",
    "    X_cross -- cross_validation_dataset\n",
    "    y_cross -- cross_validation_labelset\n",
    "    \"\"\"\n",
    "    data_count = X.shape[0]\n",
    "    shuffle_order = np.arange(data_count)\n",
    "    np.random.shuffle(shuffle_order)\n",
    "    X_train, y_train = X[shuffle_order][:(7 * data_count) // 10], y[shuffle_order][:(7 * data_count) // 10]\n",
    "    X_cross, y_cross = X[shuffle_order][(7 * data_count) // 10:], y[shuffle_order][(7 * data_count) // 10:]\n",
    "    return X_train, y_train, X_cross, y_cross"
   ]
  },
  {
   "cell_type": "code",
   "execution_count": 4,
   "metadata": {
    "collapsed": true
   },
   "outputs": [],
   "source": [
    "#Support Vector Machine Classifier\n",
    "class Support_vector_machine():\n",
    "    def __init__(self):\n",
    "        pass\n",
    "    \n",
    "    def train(self, X_train, y_train, learning_rate = 0.1, iterations = 5000, check = False):\n",
    "        \"\"\"\n",
    "        Argument:\n",
    "        X_train -- training_data\n",
    "        y_train -- training_label\n",
    "        learning_rate -- learning_rate(alpha) of gradient descent. default value is 0.1\n",
    "        iterations -- number of iterations of the optimization loop. default value is 5000\n",
    "        check -- if check is True, check the analytic gradient through a numerical gradient. default value is False\n",
    "\n",
    "        Store:\n",
    "        W -- weights matrix\n",
    "        b -- bias vector(1-dimension matrix)\n",
    "        errorindex, error -- save value of iterations(index), save value of loss functions.         \n",
    "        \"\"\"\n",
    "        self.X_train = X_train\n",
    "        self.y_train = y_train\n",
    "        pixelcount = self.X_train.shape[1]\n",
    "        kindofclass = 10\n",
    "        #initialize W, b\n",
    "        self.W = np.random.randn(pixelcount, kindofclass).astype(np.float64)\n",
    "        self.b = np.zeros(kindofclass).astype(np.float64)\n",
    "        self.errorindex = []\n",
    "        self.error = []\n",
    "        for i in range(1, iterations + 1):\n",
    "            # Getting classifier matrix\n",
    "            svm_matrix = self.lossfun(self.W, self.b)\n",
    "            if i % 200 == 0:\n",
    "                print(i, \"iterations finished\")\n",
    "                svm_error = (np.sum(svm_matrix)) / self.X_train.shape[0]\n",
    "                self.errorindex.append(i)\n",
    "                self.error.append(svm_error)\n",
    "            # Find gradient\n",
    "            dW, db = self.gradient(svm_matrix)\n",
    "            if check == True:\n",
    "                self.gradient_check()\n",
    "                if i == 3:\n",
    "                    check = False\n",
    "                print(\"derivation\", dW[:3, :3], db[:3])\n",
    "            # update W, b\n",
    "            self.W = self.W - learning_rate * (1 / i) * dW #(1 / i -> learning_rate decay)\n",
    "            self.b = self.b - learning_rate * (1 / i) * db\n",
    "    \n",
    "    def lossfun(self, W, b):\n",
    "        \"\"\"\n",
    "        Argument:\n",
    "        X_train -- training_data\n",
    "        y_train -- training_label\n",
    "        W -- weights matrix\n",
    "        b -- bias vector(1-dimension matrix)\n",
    "        \n",
    "        Return:\n",
    "        svm_matrix -- matrix which applied svm classifier.\n",
    "        \"\"\"\n",
    "        # svm -> max(0, Sj - Sy + 1) (j != y)\n",
    "        value = (np.matmul(self.X_train, W) + b)\n",
    "        \n",
    "        # y_value -> to getting Sy\n",
    "        y_value = value[range(value.shape[0]), self.y_train]\n",
    "        \n",
    "        # now svm_matrix -> max(0, Sj - Sy + 1)\n",
    "        svm_matrix = np.maximum(0, value.T - y_value + 1).T\n",
    "        \n",
    "        # Makes matrix value which index equals to j == y to 0, because that value is 1. (Sj - Sy + 1 = 1, if, y == j)\n",
    "        svm_matrix[np.arange(svm_matrix.shape[0]), self.y_train] = 0\n",
    "        return svm_matrix\n",
    "\n",
    "    def gradient(self, svm_matrix):\n",
    "        \"\"\"\n",
    "        Argument:\n",
    "        svm_matrix -- matrix which applied svm classifier.\n",
    "        \n",
    "        Return:\n",
    "        dW -- gradient matrix about W.\n",
    "        db -- gradient matrix about b.\n",
    "        \"\"\"\n",
    "        # if svm_matrix value equals to 0, dL/dSj = 0; else, dL/dSj = 1\n",
    "        morethen0 = (svm_matrix > 0).astype(np.float64)\n",
    "        minus_value = np.sum(morethen0, axis = 1)\n",
    "        # To calculate dL/dSy. That value is (-1) * (sum of vector morethan 0).\n",
    "        morethen0[np.arange(minus_value.shape[0]), self.y_train] -= minus_value\n",
    "        # Backpropagation\n",
    "        dW = np.matmul(self.X_train.T, morethen0)\n",
    "        db = np.sum(morethen0, axis = 0)\n",
    "        return dW / self.X_train.shape[0], db / self.X_train.shape[0]\n",
    "    \n",
    "    def gradient_check(self, h = 0.00001):\n",
    "        \"\"\"\n",
    "        Argument:\n",
    "        h -- very small positive number, default value is 0.00001.\n",
    "        \"\"\"\n",
    "        # Use dy/dx = lim(x->0)(f(x + h) - f(x - h) / (2 * h))        \n",
    "        # numerical gradient_check\n",
    "        dW = np.zeros(self.W.shape)\n",
    "        db = np.zeros(self.b.shape)\n",
    "        for i in range(3):\n",
    "            for j in range(3):\n",
    "                self.W[i][j] += h\n",
    "                svm_matrix1 = self.lossfun(self.W, self.b)\n",
    "                loss1 = (np.sum(svm_matrix1)) / self.X_train.shape[0]\n",
    "                self.W[i][j] -= 2 * h\n",
    "                svm_matrix2 = self.lossfun(self.W, self.b)\n",
    "                loss2 = (np.sum(svm_matrix2)) / self.X_train.shape[0]\n",
    "                dW[i][j] = (loss1 - loss2) / (2 * h)\n",
    "                self.W[i][j] += h\n",
    "        for i in range(3):\n",
    "            self.b[i] += h\n",
    "            svm_matrix1 = self.lossfun(self.W, self.b)\n",
    "            loss1 = (np.sum(svm_matrix1)) / self.X_train.shape[0]\n",
    "            self.b[i] -= 2 * h\n",
    "            svm_matrix2 = self.lossfun(self.W, self.b)\n",
    "            loss2 = (np.sum(svm_matrix2)) / self.X_train.shape[0]\n",
    "            db[i] = (loss1 - loss2) / (2 * h)\n",
    "            self.b[i] += h\n",
    "        print(\"numerical\", dW[:3, :3], db[:3])\n",
    "    \n",
    "    def predict(self, X_test):\n",
    "        \"\"\"\n",
    "        Argument:\n",
    "        X_test -- test_data\n",
    "        \n",
    "        Return:\n",
    "        constant_value -- predicted label number\n",
    "        \"\"\"\n",
    "        value = np.matmul(X_test, self.W) + self.b\n",
    "        return value.argmax(axis = 1)\n",
    "    \n",
    "    def cross_validation(self, X_cross, y_cross):\n",
    "        return\n",
    "    \n",
    "    def accuracy(self, X_test, y_test):\n",
    "        \"\"\"\n",
    "        Argument:\n",
    "        X_test -- test_data\n",
    "        y_test -- test_label\n",
    "        \n",
    "        Return:\n",
    "        value -- accuracy of classifier\n",
    "        \"\"\"\n",
    "        value = np.mean(self.predict(X_test) == y_test) * 100\n",
    "        return value"
   ]
  },
  {
   "cell_type": "code",
   "execution_count": 8,
   "metadata": {},
   "outputs": [
    {
     "name": "stdout",
     "output_type": "stream",
     "text": [
      "numerical [[ 0.  0.  0.]\n",
      " [ 0.  0.  0.]\n",
      " [ 0.  0.  0.]] [ 0.1686667   0.23933353 -0.20933348]\n",
      "derivation [[ 0.  0.  0.]\n",
      " [ 0.  0.  0.]\n",
      " [ 0.  0.  0.]] [ 0.16866667  0.23933333 -0.20933333]\n",
      "numerical [[ 0.  0.  0.]\n",
      " [ 0.  0.  0.]\n",
      " [ 0.  0.  0.]] [-0.32266835 -0.40933373  0.40867017]\n",
      "derivation [[ 0.  0.  0.]\n",
      " [ 0.  0.  0.]\n",
      " [ 0.  0.  0.]] [-0.32266667 -0.40933333  0.40866667]\n",
      "numerical [[ 0.  0.  0.]\n",
      " [ 0.  0.  0.]\n",
      " [ 0.  0.  0.]] [ 0.1346667  -0.25933332  0.11800039]\n",
      "derivation [[ 0.  0.  0.]\n",
      " [ 0.  0.  0.]\n",
      " [ 0.  0.  0.]] [ 0.13466667 -0.25933333  0.118     ]\n",
      "200 iterations finished\n",
      "400 iterations finished\n",
      "600 iterations finished\n",
      "800 iterations finished\n",
      "1000 iterations finished\n",
      "1200 iterations finished\n",
      "1400 iterations finished\n",
      "1600 iterations finished\n",
      "1800 iterations finished\n",
      "2000 iterations finished\n",
      "2200 iterations finished\n",
      "2400 iterations finished\n",
      "2600 iterations finished\n",
      "2800 iterations finished\n",
      "3000 iterations finished\n",
      "3200 iterations finished\n",
      "3400 iterations finished\n",
      "3600 iterations finished\n",
      "3800 iterations finished\n",
      "4000 iterations finished\n",
      "4200 iterations finished\n",
      "4400 iterations finished\n",
      "4600 iterations finished\n",
      "4800 iterations finished\n",
      "5000 iterations finished\n"
     ]
    }
   ],
   "source": [
    "# MNIST\n",
    "train_image_name = \"mnist\\\\train-images.idx3-ubyte\"\n",
    "train_label_name = \"mnist\\\\train-labels.idx1-ubyte\"\n",
    "test_image_name = \"mnist\\\\t10k-images.idx3-ubyte\"\n",
    "test_label_name = \"mnist\\\\t10k-labels.idx1-ubyte\"\n",
    "\n",
    "X, y = unpickle_MNIST(train_image_name, train_label_name)\n",
    "X_train, y_train, X_cross, y_cross = shuffle(X, y)\n",
    "X_test, y_test = unpickle_MNIST(test_image_name, test_label_name)\n",
    "\n",
    "SVM_mnist = Support_vector_machine()\n",
    "SVM_mnist.train(X_train[:1500], y_train[:1500], iterations = 5000, check = True)\n"
   ]
  },
  {
   "cell_type": "code",
   "execution_count": 9,
   "metadata": {},
   "outputs": [
    {
     "data": {
      "text/plain": [
       "<matplotlib.text.Text at 0x21b52e3f278>"
      ]
     },
     "execution_count": 9,
     "metadata": {},
     "output_type": "execute_result"
    },
    {
     "data": {
      "image/png": "[encoded data removed]",
      "text/plain": [
       "<matplotlib.figure.Figure at 0x21b52a42320>"
      ]
     },
     "metadata": {},
     "output_type": "display_data"
    }
   ],
   "source": [
    "#Visualizing Error Curve\n",
    "plt.plot(SVM_mnist.errorindex, SVM_mnist.error)\n",
    "plt.title(\"Error Functions\")\n",
    "plt.xlabel('Iterations')\n",
    "plt.ylabel('Error')"
   ]
  },
  {
   "cell_type": "code",
   "execution_count": 10,
   "metadata": {},
   "outputs": [
    {
     "name": "stdout",
     "output_type": "stream",
     "text": [
      "Test set accuracy is  86.25\n",
      "Train set accuracy is  80.0\n"
     ]
    }
   ],
   "source": [
    "print(\"Test set accuracy is \", SVM_mnist.accuracy(X_test, y_test))\n",
    "print(\"Train set accuracy is \", SVM_mnist.accuracy(X_train[:100], y_train[:100]))\n"
   ]
  },
  {
   "cell_type": "code",
   "execution_count": 11,
   "metadata": {},
   "outputs": [
    {
     "name": "stdout",
     "output_type": "stream",
     "text": [
      "Number of this picture is 2\n"
     ]
    },
    {
     "data": {
      "image/png": "[encoded data removed]",
      "text/plain": [
       "<matplotlib.figure.Figure at 0x21b52b60cc0>"
      ]
     },
     "metadata": {},
     "output_type": "display_data"
    }
   ],
   "source": [
    "#Visualizing MNIST\n",
    "X = X_train.reshape(42000, 28, 28)\n",
    "i = np.random.choice(range(len(X)))\n",
    "plt.imshow(X[i], interpolation = 'nearest')\n",
    "print(\"Number of this picture is\", y_train[i])"
   ]
  },
  {
   "cell_type": "code",
   "execution_count": null,
   "metadata": {
    "collapsed": true
   },
   "outputs": [],
   "source": [
    "#CIFAR_10\n",
    "file_name = 'cifar-10\\data_batch_'\n",
    "datadict = unpickle_trainset_CIFAR_10(file_name)\n",
    "file_name = 'cifar-10\\\\test_batch'\n",
    "testdict = unpickle_testset_CIFAR_10(file_name)\n",
    "classlist = ['airplane', 'automobile', 'bird', 'cat', 'deer', 'dog', 'frog', 'horse', 'ship', 'truck']\n",
    "\n",
    "X, y = datadict[b'data'], np.array(datadict[b'labels'])\n",
    "X_train, y_train, X_cross, y_cross = shuffle(X, y)\n",
    "X_test, y_test = testdict[b'data'], np.array(testdict[b'labels'])\n",
    "\n",
    "a = Support_vector_machine()\n",
    "a.train(X_train, y_train, iterations = 500)"
   ]
  },
  {
   "cell_type": "code",
   "execution_count": null,
   "metadata": {
    "collapsed": true
   },
   "outputs": [],
   "source": [
    "plt.plot(a.errorindex, a.error)\n",
    "\n",
    "plt.title(\"Error Functions\")\n",
    "plt.xlabel('Iterations')\n",
    "plt.ylabel('Error')"
   ]
  },
  {
   "cell_type": "code",
   "execution_count": null,
   "metadata": {
    "collapsed": true
   },
   "outputs": [],
   "source": [
    "print(a.accuracy(X_test, y_test))\n",
    "print(a.accuracy(X_train, y_train))"
   ]
  },
  {
   "cell_type": "code",
   "execution_count": null,
   "metadata": {
    "collapsed": true
   },
   "outputs": [],
   "source": [
    "X = X_train.reshape(40000, 3, 32, 32).transpose(0, 2, 3, 1).astype(\"uint8\")\n",
    "Y = np.array(y_train)\n",
    "\n",
    "#Visualizing CIFAR 10\n",
    "i = np.random.choice(range(len(X)))\n",
    "k = np.random.choice(range(1, 100))\n",
    "plt.imshow(X[i], interpolation='nearest')\n",
    "print(\"class is\", classlist[Y[i]], Y[i])"
   ]
  }
 ],
 "metadata": {
  "kernelspec": {
   "display_name": "Python 3",
   "language": "python",
   "name": "python3"
  },
  "language_info": {
   "codemirror_mode": {
    "name": "ipython",
    "version": 3
   },
   "file_extension": ".py",
   "mimetype": "text/x-python",
   "name": "python",
   "nbconvert_exporter": "python",
   "pygments_lexer": "ipython3",
   "version": "3.6.1"
  }
 },
 "nbformat": 4,
 "nbformat_minor": 2
}
