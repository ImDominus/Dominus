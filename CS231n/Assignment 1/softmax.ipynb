{
 "cells": [
  {
   "cell_type": "code",
   "execution_count": 1,
   "metadata": {
    "collapsed": true
   },
   "outputs": [],
   "source": [
    "import numpy as np\n",
    "import matplotlib.pyplot as plt\n",
    "import struct\n",
    "import pickle #To use cifar-10\n",
    "\n",
    "%matplotlib inline"
   ]
  },
  {
   "cell_type": "code",
   "execution_count": 2,
   "metadata": {
    "collapsed": true
   },
   "outputs": [],
   "source": [
    "#Load trainset_CIFAR_10\n",
    "#https://www.cs.toronto.edu/~kriz/cifar.html\n",
    "def unpickle_trainset_CIFAR_10(file):\n",
    "    dicts = dict()\n",
    "    for i in range(1, 6):   #This dataset is divided into 5 files.\n",
    "        if i == 1:\n",
    "            file_dict = pickle.load(open(file + str(i), 'rb'), encoding = 'bytes')\n",
    "            dicts[b'data'] = file_dict[b'data']\n",
    "            dicts[b'labels'] = file_dict[b'labels']\n",
    "        else:\n",
    "            file_dict = pickle.load(open(file + str(i), 'rb'), encoding = 'bytes')\n",
    "            dicts[b'data'] = np.concatenate((dicts[b'data'], file_dict[b'data']))\n",
    "            dicts[b'labels'] += file_dict[b'labels']\n",
    "    return dicts\n",
    "\n",
    "#Load testset_CIFAR_10\n",
    "def unpickle_testset_CIFAR_10(file):\n",
    "    dicts = pickle.load(open(file, 'rb'), encoding = 'bytes')\n",
    "    return dicts\n",
    "\n",
    "#Load MNIST\n",
    "#http://yann.lecun.com/exdb/mnist/\n",
    "def unpickle_MNIST(image, label):\n",
    "    #Read Image data\n",
    "    image_set = open(image, 'rb')\n",
    "    magic_number = struct.unpack(\">i\", image_set.read(4))[0]\n",
    "    number_images = struct.unpack(\">i\", image_set.read(4))[0]\n",
    "    rows = struct.unpack(\">i\", image_set.read(4))[0]\n",
    "    cols = struct.unpack(\">i\", image_set.read(4))[0]\n",
    "    image_set_data = np.reshape(np.fromstring(image_set.read(), dtype = np.uint8), (number_images, rows * cols))\n",
    "    image_set.close()\n",
    "    #Read Label data\n",
    "    label_set = open(label, 'rb')\n",
    "    magic_number = struct.unpack(\">i\", label_set.read(4))[0]\n",
    "    number_of_items = struct.unpack(\">i\", label_set.read(4))[0]\n",
    "    label_set_data = np.reshape(np.fromstring(label_set.read(), dtype = np.uint8), (number_of_items))\n",
    "    label_set.close()    \n",
    "    return image_set_data, label_set_data"
   ]
  },
  {
   "cell_type": "code",
   "execution_count": 3,
   "metadata": {
    "collapsed": true
   },
   "outputs": [],
   "source": [
    "def shuffle(X, y):\n",
    "    \"\"\"\n",
    "    Argument:\n",
    "    X -- all training_data\n",
    "    y -- all training_label\n",
    "    \n",
    "    Return:\n",
    "    X_train -- training_dataset\n",
    "    y_train -- training_labelset\n",
    "    X_cross -- cross_validation_dataset\n",
    "    y_cross -- cross_validation_labelset\n",
    "    \"\"\"\n",
    "\n",
    "    data_count = X.shape[0]\n",
    "    shuffle_order = np.arange(data_count)\n",
    "    np.random.shuffle(shuffle_order)\n",
    "    X_train, y_train = X[shuffle_order][:(4 * data_count) // 5], y[shuffle_order][:(4 * data_count) // 5]\n",
    "    X_cross, y_cross = X[shuffle_order][(4 * data_count) // 5:], y[shuffle_order][(4 * data_count) // 5:]\n",
    "    return X_train, y_train, X_cross, y_cross"
   ]
  },
  {
   "cell_type": "code",
   "execution_count": 4,
   "metadata": {
    "collapsed": true
   },
   "outputs": [],
   "source": [
    "class Softmax_classifier():\n",
    "    def __init__(self):\n",
    "        pass\n",
    "    \n",
    "    def train(self, X_train, y_train, learning_rate = 0.1, iterations = 5000, check = False):\n",
    "        \"\"\"\n",
    "        Argument:\n",
    "        X_train -- training_data\n",
    "        y_train -- training_label\n",
    "        learning_rate -- learning_rate(alpha) of gradient descent. default value is 0.1\n",
    "        iterations -- number of iterations of the optimization loop. default value is 5000\n",
    "        check -- if check is True, check the analytic gradient through a numerical gradient. default value is False\n",
    "\n",
    "        Store:\n",
    "        W -- weights matrix\n",
    "        b -- bias vector(1-dimension matrix)\n",
    "        errorindex, error -- save value of iterations(index), save value of loss functions.         \n",
    "        \"\"\"\n",
    "        self.X_train = X_train / 255 # To prevent overflow\n",
    "        self.y_train = y_train\n",
    "        pixelcount = self.X_train.shape[1]\n",
    "        kindofclass = 10\n",
    "        # initialize, (Xavier initialize)\n",
    "        self.W = np.random.randn(pixelcount, kindofclass).astype(np.float64) * np.sqrt(2 / self.X_train.shape[0])\n",
    "        self.b = np.zeros(kindofclass).astype(np.float64)\n",
    "        self.errorindex = []\n",
    "        self.error = []\n",
    "        for i in range(1, iterations + 1):\n",
    "            # getting matrix which applied softmax classifier.\n",
    "            softmax_matrix = self.softmaxcal(self.W, self.b)\n",
    "            error = self.calculate_error(softmax_matrix)\n",
    "            self.errorindex.append(i)\n",
    "            self.error.append(error)\n",
    "            dW, db = self.gradient(softmax_matrix)\n",
    "            if check == True:\n",
    "                print(\"gradient\", dW[:3, :3], db[:3])\n",
    "                self.gradient_check()\n",
    "                if i > 3:\n",
    "                    check = False\n",
    "            # update W, b\n",
    "            self.W -= learning_rate / i * dW\n",
    "            self.b -= learning_rate / i * db\n",
    "            if i % 500 == 0:\n",
    "                print(i, \"iterations finished\")\n",
    "    \n",
    "    def softmaxcal(self, W, b):\n",
    "        \"\"\"\n",
    "        Argument:\n",
    "        X_train -- training_data\n",
    "        y_train -- training_label\n",
    "        W -- weights matrix\n",
    "        b -- bias vector(1-dimension matrix)\n",
    "        \n",
    "        Return:\n",
    "        softmax -- matrix which applied softmax classifier.\n",
    "        \"\"\"\n",
    "        softmax = np.exp(np.matmul(self.X_train, W) + b)\n",
    "        softmax /= softmax.sum(keepdims = True, axis = 1)\n",
    "        return softmax\n",
    "    \n",
    "    def calculate_error(self, matrix):\n",
    "        \"\"\"\n",
    "        Argument:\n",
    "        matrix -- matrix which applied softmax classifier\n",
    "        \n",
    "        Return:\n",
    "        error -- value of cross-entropy-loss.\n",
    "        \"\"\"\n",
    "        error = np.sum(-np.log(matrix[np.arange(matrix.shape[0]), self.y_train])) / matrix.shape[0]\n",
    "        return error\n",
    "    \n",
    "    def gradient(self, matrix):\n",
    "        \"\"\"\n",
    "        Argument:\n",
    "        matrix -- matrix which applied softmax classifier.\n",
    "        \n",
    "        Return:\n",
    "        dW -- gradient matrix about W.\n",
    "        db -- gradient matrix about b.\n",
    "        \"\"\"\n",
    "        # if suppose f is softmax classifier, b = f(a), L = -sum(yk*log(bk))\n",
    "        # Then, dL/dai = -sum(yk/bk * dbk/dai), if i == k, 1/bk * dbk/dai = yk(1 - bk), i != k, 1/bk * dbk/dai = -yk*bk\n",
    "        # So, dL/dai = bi - yi (because sum(yk) == 1)\n",
    "        matrix[np.arange(matrix.shape[0]), self.y_train] -= 1\n",
    "        # backpropagation\n",
    "        dW = np.matmul(self.X_train.T, matrix) / self.X_train.shape[0]\n",
    "        db = np.sum(matrix, axis = 0) / self.X_train.shape[0]\n",
    "        return dW, db\n",
    "    \n",
    "    def gradient_check(self, h = 0.00001):\n",
    "        \"\"\"\n",
    "        Argument:\n",
    "        h -- very small positive number, default value is 0.00001.\n",
    "        \"\"\"\n",
    "        # Use dy/dx = lim(x->0)(f(x + h) - f(x - h) / (2 * h))        \n",
    "        # numerical gradient_check\n",
    "        dW = np.zeros(self.W.shape)\n",
    "        db = np.zeros(self.b.shape)\n",
    "        for i in range(3):\n",
    "            for j in range(3):\n",
    "                self.W[i][j] += h\n",
    "                svm_matrix1 = self.softmaxcal(self.W, self.b)\n",
    "                loss1 = self.calculate_error(svm_matrix1)\n",
    "                self.W[i][j] -= 2 * h\n",
    "                svm_matrix2 = self.softmaxcal(self.W, self.b)\n",
    "                loss2 = self.calculate_error(svm_matrix2)\n",
    "                dW[i][j] = (loss1 - loss2) / (2 * h)\n",
    "                self.W[i][j] += h\n",
    "        for i in range(3):\n",
    "            self.b[i] += h\n",
    "            svm_matrix1 = self.softmaxcal(self.W, self.b)\n",
    "            loss1 = self.calculate_error(svm_matrix1)\n",
    "            self.b[i] -= 2 * h\n",
    "            svm_matrix2 = self.softmaxcal(self.W, self.b)\n",
    "            loss2 = self.calculate_error(svm_matrix2)\n",
    "            db[i] = (loss1 - loss2) / (2 * h)\n",
    "            self.b[i] += h\n",
    "        print(\"numerical\", dW[:3, :3], db[:3])\n",
    "    \n",
    "    def predict(self, X_test):\n",
    "        \"\"\"\n",
    "        Argument:\n",
    "        X_test -- test_data\n",
    "        \n",
    "        Return:\n",
    "        constant_value -- predicted label number\n",
    "        \"\"\"\n",
    "        softmax = np.matmul(X_test / 255, self.W) + self.b\n",
    "        return softmax.argmax(axis = 1)\n",
    "    \n",
    "    def accuracy(self, X_test, y_test):\n",
    "        \"\"\"\n",
    "        Argument:\n",
    "        X_test -- test_data\n",
    "        y_test -- test_label\n",
    "        \n",
    "        Return:\n",
    "        value -- accuracy of classifier\n",
    "        \"\"\"\n",
    "        return np.mean(self.predict(X_test) == y_test) * 100"
   ]
  },
  {
   "cell_type": "code",
   "execution_count": 6,
   "metadata": {},
   "outputs": [
    {
     "name": "stdout",
     "output_type": "stream",
     "text": [
      "gradient [[ 0.  0.  0.]\n",
      " [ 0.  0.  0.]\n",
      " [ 0.  0.  0.]] [-0.00137463  0.02249318 -0.00898613]\n",
      "numerical [[ 0.  0.  0.]\n",
      " [ 0.  0.  0.]\n",
      " [ 0.  0.  0.]] [-0.00137463  0.02249318 -0.00898613]\n",
      "gradient [[ 0.  0.  0.]\n",
      " [ 0.  0.  0.]\n",
      " [ 0.  0.  0.]] [ 0.00761507 -0.00222943 -0.00390356]\n",
      "numerical [[ 0.  0.  0.]\n",
      " [ 0.  0.  0.]\n",
      " [ 0.  0.  0.]] [ 0.00761507 -0.00222943 -0.00390356]\n",
      "gradient [[ 0.  0.  0.]\n",
      " [ 0.  0.  0.]\n",
      " [ 0.  0.  0.]] [ 0.00999026 -0.00786494 -0.00248962]\n",
      "numerical [[ 0.  0.  0.]\n",
      " [ 0.  0.  0.]\n",
      " [ 0.  0.  0.]] [ 0.00999026 -0.00786494 -0.00248962]\n",
      "gradient [[ 0.  0.  0.]\n",
      " [ 0.  0.  0.]\n",
      " [ 0.  0.  0.]] [ 0.01119497 -0.01067053 -0.00174371]\n",
      "numerical [[ 0.  0.  0.]\n",
      " [ 0.  0.  0.]\n",
      " [ 0.  0.  0.]] [ 0.01119497 -0.01067053 -0.00174371]\n"
     ]
    },
    {
     "ename": "KeyboardInterrupt",
     "evalue": "",
     "output_type": "error",
     "traceback": [
      "\u001b[1;31m---------------------------------------------------------------------------\u001b[0m",
      "\u001b[1;31mKeyboardInterrupt\u001b[0m                         Traceback (most recent call last)",
      "\u001b[1;32m<ipython-input-6-a3ef2409c2fd>\u001b[0m in \u001b[0;36m<module>\u001b[1;34m()\u001b[0m\n\u001b[0;32m     10\u001b[0m \u001b[1;33m\u001b[0m\u001b[0m\n\u001b[0;32m     11\u001b[0m \u001b[0mSoftmax_mnist\u001b[0m \u001b[1;33m=\u001b[0m \u001b[0mSoftmax_classifier\u001b[0m\u001b[1;33m(\u001b[0m\u001b[1;33m)\u001b[0m\u001b[1;33m\u001b[0m\u001b[0m\n\u001b[1;32m---> 12\u001b[1;33m \u001b[0mSoftmax_mnist\u001b[0m\u001b[1;33m.\u001b[0m\u001b[0mtrain\u001b[0m\u001b[1;33m(\u001b[0m\u001b[0mX_train\u001b[0m\u001b[1;33m[\u001b[0m\u001b[1;33m:\u001b[0m\u001b[1;36m3000\u001b[0m\u001b[1;33m]\u001b[0m\u001b[1;33m,\u001b[0m \u001b[0my_train\u001b[0m\u001b[1;33m[\u001b[0m\u001b[1;33m:\u001b[0m\u001b[1;36m3000\u001b[0m\u001b[1;33m]\u001b[0m\u001b[1;33m,\u001b[0m \u001b[0miterations\u001b[0m \u001b[1;33m=\u001b[0m \u001b[1;36m5000\u001b[0m\u001b[1;33m,\u001b[0m \u001b[0mcheck\u001b[0m \u001b[1;33m=\u001b[0m \u001b[1;32mTrue\u001b[0m\u001b[1;33m)\u001b[0m\u001b[1;33m\u001b[0m\u001b[0m\n\u001b[0m",
      "\u001b[1;32m<ipython-input-4-2f7939f690fb>\u001b[0m in \u001b[0;36mtrain\u001b[1;34m(self, X_train, y_train, learning_rate, iterations, check)\u001b[0m\n\u001b[0;32m     17\u001b[0m             \u001b[0mself\u001b[0m\u001b[1;33m.\u001b[0m\u001b[0merrorindex\u001b[0m\u001b[1;33m.\u001b[0m\u001b[0mappend\u001b[0m\u001b[1;33m(\u001b[0m\u001b[0mi\u001b[0m\u001b[1;33m)\u001b[0m\u001b[1;33m\u001b[0m\u001b[0m\n\u001b[0;32m     18\u001b[0m             \u001b[0mself\u001b[0m\u001b[1;33m.\u001b[0m\u001b[0merror\u001b[0m\u001b[1;33m.\u001b[0m\u001b[0mappend\u001b[0m\u001b[1;33m(\u001b[0m\u001b[0merror\u001b[0m\u001b[1;33m)\u001b[0m\u001b[1;33m\u001b[0m\u001b[0m\n\u001b[1;32m---> 19\u001b[1;33m             \u001b[0mdW\u001b[0m\u001b[1;33m,\u001b[0m \u001b[0mdb\u001b[0m \u001b[1;33m=\u001b[0m \u001b[0mself\u001b[0m\u001b[1;33m.\u001b[0m\u001b[0mgradient\u001b[0m\u001b[1;33m(\u001b[0m\u001b[0msoftmax_matrix\u001b[0m\u001b[1;33m)\u001b[0m\u001b[1;33m\u001b[0m\u001b[0m\n\u001b[0m\u001b[0;32m     20\u001b[0m             \u001b[1;32mif\u001b[0m \u001b[0mcheck\u001b[0m \u001b[1;33m==\u001b[0m \u001b[1;32mTrue\u001b[0m\u001b[1;33m:\u001b[0m\u001b[1;33m\u001b[0m\u001b[0m\n\u001b[0;32m     21\u001b[0m                 \u001b[0mprint\u001b[0m\u001b[1;33m(\u001b[0m\u001b[1;34m\"gradient\"\u001b[0m\u001b[1;33m,\u001b[0m \u001b[0mdW\u001b[0m\u001b[1;33m[\u001b[0m\u001b[1;33m:\u001b[0m\u001b[1;36m3\u001b[0m\u001b[1;33m,\u001b[0m \u001b[1;33m:\u001b[0m\u001b[1;36m3\u001b[0m\u001b[1;33m]\u001b[0m\u001b[1;33m,\u001b[0m \u001b[0mdb\u001b[0m\u001b[1;33m[\u001b[0m\u001b[1;33m:\u001b[0m\u001b[1;36m3\u001b[0m\u001b[1;33m]\u001b[0m\u001b[1;33m)\u001b[0m\u001b[1;33m\u001b[0m\u001b[0m\n",
      "\u001b[1;32m<ipython-input-4-2f7939f690fb>\u001b[0m in \u001b[0;36mgradient\u001b[1;34m(self, matrix)\u001b[0m\n\u001b[0;32m     39\u001b[0m     \u001b[1;32mdef\u001b[0m \u001b[0mgradient\u001b[0m\u001b[1;33m(\u001b[0m\u001b[0mself\u001b[0m\u001b[1;33m,\u001b[0m \u001b[0mmatrix\u001b[0m\u001b[1;33m)\u001b[0m\u001b[1;33m:\u001b[0m\u001b[1;33m\u001b[0m\u001b[0m\n\u001b[0;32m     40\u001b[0m         \u001b[0mmatrix\u001b[0m\u001b[1;33m[\u001b[0m\u001b[0mnp\u001b[0m\u001b[1;33m.\u001b[0m\u001b[0marange\u001b[0m\u001b[1;33m(\u001b[0m\u001b[0mmatrix\u001b[0m\u001b[1;33m.\u001b[0m\u001b[0mshape\u001b[0m\u001b[1;33m[\u001b[0m\u001b[1;36m0\u001b[0m\u001b[1;33m]\u001b[0m\u001b[1;33m)\u001b[0m\u001b[1;33m,\u001b[0m \u001b[0mself\u001b[0m\u001b[1;33m.\u001b[0m\u001b[0my_train\u001b[0m\u001b[1;33m]\u001b[0m \u001b[1;33m-=\u001b[0m \u001b[1;36m1\u001b[0m\u001b[1;33m\u001b[0m\u001b[0m\n\u001b[1;32m---> 41\u001b[1;33m         \u001b[0mdW\u001b[0m \u001b[1;33m=\u001b[0m \u001b[0mnp\u001b[0m\u001b[1;33m.\u001b[0m\u001b[0mmatmul\u001b[0m\u001b[1;33m(\u001b[0m\u001b[0mself\u001b[0m\u001b[1;33m.\u001b[0m\u001b[0mX_train\u001b[0m\u001b[1;33m.\u001b[0m\u001b[0mT\u001b[0m\u001b[1;33m,\u001b[0m \u001b[0mmatrix\u001b[0m\u001b[1;33m)\u001b[0m \u001b[1;33m/\u001b[0m \u001b[0mself\u001b[0m\u001b[1;33m.\u001b[0m\u001b[0mX_train\u001b[0m\u001b[1;33m.\u001b[0m\u001b[0mshape\u001b[0m\u001b[1;33m[\u001b[0m\u001b[1;36m0\u001b[0m\u001b[1;33m]\u001b[0m\u001b[1;33m\u001b[0m\u001b[0m\n\u001b[0m\u001b[0;32m     42\u001b[0m         \u001b[0mdb\u001b[0m \u001b[1;33m=\u001b[0m \u001b[0mnp\u001b[0m\u001b[1;33m.\u001b[0m\u001b[0msum\u001b[0m\u001b[1;33m(\u001b[0m\u001b[0mmatrix\u001b[0m\u001b[1;33m,\u001b[0m \u001b[0maxis\u001b[0m \u001b[1;33m=\u001b[0m \u001b[1;36m0\u001b[0m\u001b[1;33m)\u001b[0m \u001b[1;33m/\u001b[0m \u001b[0mself\u001b[0m\u001b[1;33m.\u001b[0m\u001b[0mX_train\u001b[0m\u001b[1;33m.\u001b[0m\u001b[0mshape\u001b[0m\u001b[1;33m[\u001b[0m\u001b[1;36m0\u001b[0m\u001b[1;33m]\u001b[0m\u001b[1;33m\u001b[0m\u001b[0m\n\u001b[0;32m     43\u001b[0m         \u001b[1;32mreturn\u001b[0m \u001b[0mdW\u001b[0m\u001b[1;33m,\u001b[0m \u001b[0mdb\u001b[0m\u001b[1;33m\u001b[0m\u001b[0m\n",
      "\u001b[1;31mKeyboardInterrupt\u001b[0m: "
     ]
    }
   ],
   "source": [
    "# MNIST\n",
    "train_image_name = \"mnist\\\\train-images.idx3-ubyte\"\n",
    "train_label_name = \"mnist\\\\train-labels.idx1-ubyte\"\n",
    "test_image_name = \"mnist\\\\t10k-images.idx3-ubyte\"\n",
    "test_label_name = \"mnist\\\\t10k-labels.idx1-ubyte\"\n",
    "\n",
    "X, y = unpickle_MNIST(train_image_name, train_label_name)\n",
    "X_train, y_train, X_cross, y_cross = shuffle(X, y)\n",
    "X_test, y_test = unpickle_MNIST(test_image_name, test_label_name)\n",
    "\n",
    "Softmax_mnist = Softmax_classifier()\n",
    "Softmax_mnist.train(X_train[:3000], y_train[:3000], iterations = 5000, check = True)"
   ]
  },
  {
   "cell_type": "code",
   "execution_count": 60,
   "metadata": {},
   "outputs": [
    {
     "data": {
      "text/plain": [
       "<matplotlib.text.Text at 0x20ed4b55240>"
      ]
     },
     "execution_count": 60,
     "metadata": {},
     "output_type": "execute_result"
    },
    {
     "data": {
      "image/png": "[encoded data removed]",
      "text/plain": [
       "<matplotlib.figure.Figure at 0x20ed3e19550>"
      ]
     },
     "metadata": {},
     "output_type": "display_data"
    }
   ],
   "source": [
    "#Visualizing Error Curve\n",
    "plt.plot(Softmax_mnist.errorindex, Softmax_mnist.error)\n",
    "plt.title(\"Error Functions\")\n",
    "plt.xlabel('Iterations')\n",
    "plt.ylabel('Error')"
   ]
  },
  {
   "cell_type": "code",
   "execution_count": 62,
   "metadata": {},
   "outputs": [
    {
     "name": "stdout",
     "output_type": "stream",
     "text": [
      "Test set accuracy is  74.19\n",
      "Train set accuracy is  74.1666666667\n"
     ]
    }
   ],
   "source": [
    "print(\"Test set accuracy is \", Softmax_mnist.accuracy(X_test, y_test))\n",
    "print(\"Train set accuracy is \", Softmax_mnist.accuracy(X_train[:3000], y_train[:3000]))"
   ]
  },
  {
   "cell_type": "code",
   "execution_count": 82,
   "metadata": {},
   "outputs": [
    {
     "name": "stdout",
     "output_type": "stream",
     "text": [
      "Number of this picture is 1\n",
      "Prediction =  1\n"
     ]
    },
    {
     "data": {
      "image/png": "[encoded data removed]",
      "text/plain": [
       "<matplotlib.figure.Figure at 0x20ed4e90fd0>"
      ]
     },
     "metadata": {},
     "output_type": "display_data"
    }
   ],
   "source": [
    "def onesample(self, X_test):\n",
    "    softmax = np.matmul(X_test / 255, self.W) + self.b\n",
    "    index = softmax.argmax()\n",
    "    return index\n",
    "\n",
    "\n",
    "#Visualizing MNIST\n",
    "X = X_train.reshape(48000, 28, 28)\n",
    "i = np.random.choice(range(len(X)))\n",
    "plt.imshow(X[i], interpolation = 'nearest')\n",
    "print(\"Number of this picture is\", y_train[i])\n",
    "print(\"Prediction = \", onesample(Softmax_mnist, X_train[i]))"
   ]
  },
  {
   "cell_type": "code",
   "execution_count": 5,
   "metadata": {},
   "outputs": [
    {
     "name": "stdout",
     "output_type": "stream",
     "text": [
      "(40000, 3072)\n"
     ]
    },
    {
     "ename": "KeyboardInterrupt",
     "evalue": "",
     "output_type": "error",
     "traceback": [
      "\u001b[0;31m---------------------------------------------------------------------------\u001b[0m",
      "\u001b[0;31mKeyboardInterrupt\u001b[0m                         Traceback (most recent call last)",
      "\u001b[0;32m<ipython-input-5-e8ed46e111f0>\u001b[0m in \u001b[0;36m<module>\u001b[0;34m()\u001b[0m\n\u001b[1;32m     12\u001b[0m \u001b[1;33m\u001b[0m\u001b[0m\n\u001b[1;32m     13\u001b[0m \u001b[0ma\u001b[0m \u001b[1;33m=\u001b[0m \u001b[0mSoftmax_classifier\u001b[0m\u001b[1;33m(\u001b[0m\u001b[1;33m)\u001b[0m\u001b[1;33m\u001b[0m\u001b[0m\n\u001b[0;32m---> 14\u001b[0;31m \u001b[0ma\u001b[0m\u001b[1;33m.\u001b[0m\u001b[0mtrain\u001b[0m\u001b[1;33m(\u001b[0m\u001b[0mX_train\u001b[0m \u001b[1;33m/\u001b[0m \u001b[1;36m255\u001b[0m\u001b[1;33m,\u001b[0m \u001b[0my_train\u001b[0m\u001b[1;33m,\u001b[0m \u001b[0miterations\u001b[0m \u001b[1;33m=\u001b[0m \u001b[1;36m100\u001b[0m\u001b[1;33m,\u001b[0m \u001b[0mcheck\u001b[0m \u001b[1;33m=\u001b[0m \u001b[1;32mTrue\u001b[0m\u001b[1;33m)\u001b[0m\u001b[1;33m\u001b[0m\u001b[0m\n\u001b[0m",
      "\u001b[0;32m<ipython-input-4-56fd553e14c8>\u001b[0m in \u001b[0;36mtrain\u001b[0;34m(self, X_train, y_train, learning_rate, iterations, check)\u001b[0m\n\u001b[1;32m     13\u001b[0m         \u001b[0mself\u001b[0m\u001b[1;33m.\u001b[0m\u001b[0merror\u001b[0m \u001b[1;33m=\u001b[0m \u001b[1;33m[\u001b[0m\u001b[1;33m]\u001b[0m\u001b[1;33m\u001b[0m\u001b[0m\n\u001b[1;32m     14\u001b[0m         \u001b[1;32mfor\u001b[0m \u001b[0mi\u001b[0m \u001b[1;32min\u001b[0m \u001b[0mrange\u001b[0m\u001b[1;33m(\u001b[0m\u001b[1;36m1\u001b[0m\u001b[1;33m,\u001b[0m \u001b[0miterations\u001b[0m \u001b[1;33m+\u001b[0m \u001b[1;36m1\u001b[0m\u001b[1;33m)\u001b[0m\u001b[1;33m:\u001b[0m\u001b[1;33m\u001b[0m\u001b[0m\n\u001b[0;32m---> 15\u001b[0;31m             \u001b[0msoftmax_matrix\u001b[0m \u001b[1;33m=\u001b[0m \u001b[0mself\u001b[0m\u001b[1;33m.\u001b[0m\u001b[0msoftmaxcal\u001b[0m\u001b[1;33m(\u001b[0m\u001b[0mself\u001b[0m\u001b[1;33m.\u001b[0m\u001b[0mW\u001b[0m\u001b[1;33m,\u001b[0m \u001b[0mself\u001b[0m\u001b[1;33m.\u001b[0m\u001b[0mb\u001b[0m\u001b[1;33m)\u001b[0m\u001b[1;33m\u001b[0m\u001b[0m\n\u001b[0m\u001b[1;32m     16\u001b[0m             \u001b[0merror\u001b[0m \u001b[1;33m=\u001b[0m \u001b[0mself\u001b[0m\u001b[1;33m.\u001b[0m\u001b[0mcalculate_error\u001b[0m\u001b[1;33m(\u001b[0m\u001b[0msoftmax_matrix\u001b[0m\u001b[1;33m)\u001b[0m\u001b[1;33m\u001b[0m\u001b[0m\n\u001b[1;32m     17\u001b[0m             \u001b[0mself\u001b[0m\u001b[1;33m.\u001b[0m\u001b[0merrorindex\u001b[0m\u001b[1;33m.\u001b[0m\u001b[0mappend\u001b[0m\u001b[1;33m(\u001b[0m\u001b[0mi\u001b[0m\u001b[1;33m)\u001b[0m\u001b[1;33m\u001b[0m\u001b[0m\n",
      "\u001b[0;32m<ipython-input-4-56fd553e14c8>\u001b[0m in \u001b[0;36msoftmaxcal\u001b[0;34m(self, W, b)\u001b[0m\n\u001b[1;32m     29\u001b[0m \u001b[1;33m\u001b[0m\u001b[0m\n\u001b[1;32m     30\u001b[0m     \u001b[1;32mdef\u001b[0m \u001b[0msoftmaxcal\u001b[0m\u001b[1;33m(\u001b[0m\u001b[0mself\u001b[0m\u001b[1;33m,\u001b[0m \u001b[0mW\u001b[0m\u001b[1;33m,\u001b[0m \u001b[0mb\u001b[0m\u001b[1;33m)\u001b[0m\u001b[1;33m:\u001b[0m\u001b[1;33m\u001b[0m\u001b[0m\n\u001b[0;32m---> 31\u001b[0;31m         \u001b[0msoftmax\u001b[0m \u001b[1;33m=\u001b[0m \u001b[0mnp\u001b[0m\u001b[1;33m.\u001b[0m\u001b[0mexp\u001b[0m\u001b[1;33m(\u001b[0m\u001b[0mnp\u001b[0m\u001b[1;33m.\u001b[0m\u001b[0mmatmul\u001b[0m\u001b[1;33m(\u001b[0m\u001b[0mself\u001b[0m\u001b[1;33m.\u001b[0m\u001b[0mX_train\u001b[0m\u001b[1;33m,\u001b[0m \u001b[0mW\u001b[0m\u001b[1;33m)\u001b[0m \u001b[1;33m+\u001b[0m \u001b[0mb\u001b[0m\u001b[1;33m)\u001b[0m\u001b[1;33m\u001b[0m\u001b[0m\n\u001b[0m\u001b[1;32m     32\u001b[0m         \u001b[0msoftmax\u001b[0m \u001b[1;33m/=\u001b[0m \u001b[0msoftmax\u001b[0m\u001b[1;33m.\u001b[0m\u001b[0msum\u001b[0m\u001b[1;33m(\u001b[0m\u001b[0mkeepdims\u001b[0m \u001b[1;33m=\u001b[0m \u001b[1;32mTrue\u001b[0m\u001b[1;33m,\u001b[0m \u001b[0maxis\u001b[0m \u001b[1;33m=\u001b[0m \u001b[1;36m1\u001b[0m\u001b[1;33m)\u001b[0m\u001b[1;33m\u001b[0m\u001b[0m\n\u001b[1;32m     33\u001b[0m         \u001b[1;32mreturn\u001b[0m \u001b[0msoftmax\u001b[0m\u001b[1;33m\u001b[0m\u001b[0m\n",
      "\u001b[0;31mKeyboardInterrupt\u001b[0m: "
     ]
    }
   ],
   "source": [
    "file_name = 'cifar-10\\data_batch_'\n",
    "datadict = unpickle_trainset__CIFAR_10(file_name)\n",
    "file_name = 'cifar-10\\\\test_batch'\n",
    "testdict = unpickle_testset__CIFAR_10(file_name)\n",
    "classlist = ['airplane', 'automobile', 'bird', 'cat', 'deer', 'dog', 'frog', 'horse', 'ship', 'truck']\n",
    "\n",
    "X, y = datadict[b'data'], np.array(datadict[b'labels'])\n",
    "X_train, y_train, X_cross, y_cross = shuffle(X, y)\n",
    "X_test, y_test = testdict[b'data'], np.array(testdict[b'labels'])\n",
    "print(X_train.shape)\n",
    "\n",
    "a = Softmax_classifier()\n",
    "a.train(X_train, y_train, iterations = 100, check = True)"
   ]
  },
  {
   "cell_type": "code",
   "execution_count": 15,
   "metadata": {},
   "outputs": [
    {
     "data": {
      "text/plain": [
       "<matplotlib.text.Text at 0x1e7be9b3e80>"
      ]
     },
     "execution_count": 15,
     "metadata": {},
     "output_type": "execute_result"
    },
    {
     "data": {
      "image/png": "[encoded data removed]",
      "text/plain": [
       "<matplotlib.figure.Figure at 0x1e7be8b7f98>"
      ]
     },
     "metadata": {},
     "output_type": "display_data"
    }
   ],
   "source": [
    "plt.plot(a.errorindex, a.error)\n",
    "\n",
    "plt.title(\"Error Functions\")\n",
    "plt.xlabel('Iterations')\n",
    "plt.ylabel('Error')\n"
   ]
  },
  {
   "cell_type": "code",
   "execution_count": 17,
   "metadata": {},
   "outputs": [
    {
     "name": "stdout",
     "output_type": "stream",
     "text": [
      "17.25\n",
      "16.7975\n"
     ]
    }
   ],
   "source": [
    "print(a.accuracy(X_test, y_test))\n",
    "print(a.accuracy(X_train / 255, y_train))"
   ]
  },
  {
   "cell_type": "code",
   "execution_count": 19,
   "metadata": {},
   "outputs": [
    {
     "name": "stdout",
     "output_type": "stream",
     "text": [
      "class is bird 2\n"
     ]
    },
    {
     "data": {
      "image/png": "[encoded data removed]",
      "text/plain": [
       "<matplotlib.figure.Figure at 0x1e7be80ceb8>"
      ]
     },
     "metadata": {},
     "output_type": "display_data"
    }
   ],
   "source": [
    "X = X_train.reshape(40000, 3, 32, 32).transpose(0, 2, 3, 1).astype(\"uint8\")\n",
    "Y = np.array(y_train)\n",
    "\n",
    "#Visualizing CIFAR 10\n",
    "i = np.random.choice(range(len(X)))\n",
    "k = np.random.choice(range(1, 100))\n",
    "plt.imshow(X[i], interpolation='nearest')\n",
    "print(\"class is\", classlist[Y[i]], Y[i])"
   ]
  },
  {
   "cell_type": "code",
   "execution_count": null,
   "metadata": {
    "collapsed": true
   },
   "outputs": [],
   "source": []
  },
  {
   "cell_type": "code",
   "execution_count": null,
   "metadata": {
    "collapsed": true
   },
   "outputs": [],
   "source": []
  }
 ],
 "metadata": {
  "kernelspec": {
   "display_name": "Python 3",
   "language": "python",
   "name": "python3"
  },
  "language_info": {
   "codemirror_mode": {
    "name": "ipython",
    "version": 3
   },
   "file_extension": ".py",
   "mimetype": "text/x-python",
   "name": "python",
   "nbconvert_exporter": "python",
   "pygments_lexer": "ipython3",
   "version": "3.6.1"
  }
 },
 "nbformat": 4,
 "nbformat_minor": 2
}
