{
 "cells": [
  {
   "cell_type": "code",
   "execution_count": 1,
   "metadata": {},
   "outputs": [],
   "source": [
    "import numpy as np\n",
    "import matplotlib.pyplot as plt\n",
    "import struct\n",
    "from time import time\n",
    "from collections import deque\n",
    "%matplotlib inline"
   ]
  },
  {
   "cell_type": "code",
   "execution_count": 2,
   "metadata": {},
   "outputs": [],
   "source": [
    "#Load MNIST\n",
    "#http://yann.lecun.com/exdb/mnist/\n",
    "def unpickle_MNIST(image, label):\n",
    "    #Read Image data\n",
    "    image_set = open(image, 'rb')\n",
    "    magic_number = struct.unpack(\">i\", image_set.read(4))[0]\n",
    "    number_images = struct.unpack(\">i\", image_set.read(4))[0]\n",
    "    rows = struct.unpack(\">i\", image_set.read(4))[0]\n",
    "    cols = struct.unpack(\">i\", image_set.read(4))[0]\n",
    "    image_set_data = np.reshape(np.fromstring(image_set.read(), dtype = np.uint8), (number_images, rows * cols))\n",
    "    image_set.close()\n",
    "    #Read Label data\n",
    "    label_set = open(label, 'rb')\n",
    "    magic_number = struct.unpack(\">i\", label_set.read(4))[0]\n",
    "    number_of_items = struct.unpack(\">i\", label_set.read(4))[0]\n",
    "    label_set_data = np.reshape(np.fromstring(label_set.read(), dtype = np.uint8), (number_of_items))\n",
    "    label_set.close()    \n",
    "    return image_set_data.reshape(image_set_data.shape[0], 1, 28, 28), label_set_data"
   ]
  },
  {
   "cell_type": "code",
   "execution_count": 3,
   "metadata": {},
   "outputs": [],
   "source": [
    "def shuffle(X, y):\n",
    "    \"\"\"\n",
    "    Argument:\n",
    "    X -- all training_data\n",
    "    y -- all training_label\n",
    "    \n",
    "    Return:\n",
    "    X_train -- training_dataset\n",
    "    y_train -- training_labelset\n",
    "    X_cross -- cross_validation_dataset\n",
    "    y_cross -- cross_validation_labelset\n",
    "    \"\"\"\n",
    "    data_count = X.shape[0]\n",
    "    shuffle_order = np.arange(data_count)\n",
    "    np.random.shuffle(shuffle_order)\n",
    "    X_train, y_train = X[shuffle_order][:(4 * data_count) // 5], y[shuffle_order][:(4 * data_count) // 5]\n",
    "    X_cross, y_cross = X[shuffle_order][(4 * data_count) // 5:], y[shuffle_order][(4 * data_count) // 5:]\n",
    "    return X_train, y_train, X_cross, y_cross"
   ]
  },
  {
   "cell_type": "code",
   "execution_count": 4,
   "metadata": {},
   "outputs": [],
   "source": [
    "# MNIST\n",
    "train_image_name = \"mnist\\\\train-images.idx3-ubyte\"\n",
    "train_label_name = \"mnist\\\\train-labels.idx1-ubyte\"\n",
    "test_image_name = \"mnist\\\\t10k-images.idx3-ubyte\"\n",
    "test_label_name = \"mnist\\\\t10k-labels.idx1-ubyte\"\n",
    "\n",
    "X, y = unpickle_MNIST(train_image_name, train_label_name)\n",
    "X_train, y_train, X_cross, y_cross = shuffle(X, y)\n",
    "X_test, y_test = unpickle_MNIST(test_image_name, test_label_name)"
   ]
  },
  {
   "cell_type": "code",
   "execution_count": 5,
   "metadata": {},
   "outputs": [
    {
     "name": "stdout",
     "output_type": "stream",
     "text": [
      "Number of this picture is 8\n"
     ]
    },
    {
     "data": {
      "image/png": "[encoded data removed]",
      "text/plain": [
       "<matplotlib.figure.Figure at 0x1d2a0ec44e0>"
      ]
     },
     "metadata": {},
     "output_type": "display_data"
    }
   ],
   "source": [
    "#Visualizing MNIST\n",
    "X = X_train.reshape(48000, 28, 28)\n",
    "i = np.random.choice(range(len(X)))\n",
    "plt.imshow(X[i], interpolation = 'nearest')\n",
    "print(\"Number of this picture is\", y_train[i])"
   ]
  },
  {
   "cell_type": "code",
   "execution_count": 6,
   "metadata": {},
   "outputs": [],
   "source": [
    "count = 1\n",
    "\n",
    "def MNIST_train(X, y, lambd = 0, epoch = 7, learning_rate = 0.01, test = False):\n",
    "    global count\n",
    "    np.random.seed(1)\n",
    "    fc_W = dict()\n",
    "    fc_b = dict()\n",
    "    fc_gamma = dict()\n",
    "    fc_beta = dict()\n",
    "    fc_mean = dict()\n",
    "    fc_std = dict()\n",
    "    X_train = X\n",
    "    y_train = y\n",
    "    \n",
    "    Convolution_layer = [(28 * 28, 9, 10), (28 * 28, 9 * 10, 4)]\n",
    "    FC_layer = [28 * 28 * 4, 128, 10]\n",
    "    order = [len(Convolution_layer), len(FC_layer) - 1]\n",
    "\n",
    "    # Set Convolution Layer\n",
    "    for i, v in enumerate(Convolution_layer):\n",
    "        W, gamma, beta, mean, std = \"CW\" + str(i), \"Cz\" + str(i + 1),\\\n",
    "                                    \"Cz\" + str(i + 1), \"Cz\" + str(i + 1), \"Cz\" + str(i + 1)\n",
    "        n_in, n_f_size, n_f_num = v\n",
    "        fc_W[W] = dict()\n",
    "        fc_W[W][0] = np.random.randn(n_f_size, n_f_num) / np.sqrt(n_f_size / 2)\n",
    "        fc_W[W][1], fc_W[W][2] = np.zeros(fc_W[W][0].shape), np.zeros(fc_W[W][0].shape)\n",
    "        fc_gamma[gamma] = dict()\n",
    "        fc_gamma[gamma][0] = np.random.randn(n_in, n_f_num)\n",
    "        fc_gamma[gamma][1], fc_gamma[gamma][2] = np.zeros(fc_gamma[gamma][0].shape), np.zeros(fc_gamma[gamma][0].shape)\n",
    "        fc_beta[beta] = dict()\n",
    "        fc_beta[beta][0] = np.random.randn(n_in, n_f_num)\n",
    "        fc_beta[beta][1], fc_beta[beta][2] = np.zeros(fc_beta[beta][0].shape), np.zeros(fc_beta[beta][0].shape)\n",
    "        fc_mean[mean] = np.zeros((n_in, n_f_num))\n",
    "        fc_std[std] = np.zeros((n_in, n_f_num))\n",
    "\n",
    "    # Set Fully Connected Area\n",
    "    for i in range(len(FC_layer) - 1):\n",
    "        W, b, gamma, beta, mean, std = \"W\" + str(i), \"b\" + str(i), \"z\" + str(i + 1),\\\n",
    "                                       \"z\" + str(i + 1), \"z\" + str(i + 1), \"z\" + str(i + 1)\n",
    "        n_in, n_out = FC_layer[i], FC_layer[i + 1]\n",
    "        fc_W[W] = dict()\n",
    "        fc_W[W][0] = np.random.randn(n_in, n_out) / np.sqrt(n_in / 2)\n",
    "        fc_W[W][1], fc_W[W][2] = np.zeros(fc_W[W][0].shape), np.zeros(fc_W[W][0].shape)\n",
    "        fc_b[b] = dict()\n",
    "        fc_b[b][0] = np.zeros(n_out)\n",
    "        fc_b[b][1], fc_b[b][2] = np.zeros(fc_b[b][0].shape), np.zeros(fc_b[b][0].shape)\n",
    "        fc_gamma[gamma] = dict()\n",
    "        fc_gamma[gamma][0] = np.random.randn(n_out)\n",
    "        fc_gamma[gamma][1], fc_gamma[gamma][2] = np.zeros(fc_gamma[gamma][0].shape), np.zeros(fc_gamma[gamma][0].shape)\n",
    "        fc_beta[beta] = dict()\n",
    "        fc_beta[beta][0] = np.random.randn(n_out)\n",
    "        fc_beta[beta][1], fc_beta[beta][2] = np.zeros(fc_beta[beta][0].shape), np.zeros(fc_beta[beta][0].shape)\n",
    "        fc_mean[mean] = np.zeros(n_out)\n",
    "        fc_std[std] = np.zeros(n_out)\n",
    "    training_cost = []\n",
    "    # Training Start\n",
    "    for epo in range(epoch):\n",
    "        for i in range(0, X_train.shape[0], 128):\n",
    "            X_mini = X_train[i:i + 128]\n",
    "            y_mini = y_train[i:i + 128]\n",
    "            if test == True:\n",
    "                numerical_check(order, X_mini, y_mini, fc_W, fc_b, fc_gamma, fc_beta, fc_mean, fc_std, lambd)\n",
    "            #forward\n",
    "            cache = forward(order, X_mini, fc_W, fc_b, fc_gamma, fc_beta, fc_mean, fc_std)\n",
    "            if (count - 1) % 100 == 0:\n",
    "                training_cost.append(nn_cost(y_mini, cache['x'][-1], fc_W, lambd))\n",
    "            #backward\n",
    "            backward(order, cache, fc_W, fc_b, fc_gamma, fc_beta, fc_mean, fc_std, y_mini, learning_rate, test, lambd)\n",
    "            if (count - 1) % 100 == 0:\n",
    "                print(count - 1, \"lambda =\", lambd, \", iteration finished, Cost =\", training_cost[-1])\n",
    "            count += 1\n",
    "            if count == 2:\n",
    "                test = False\n",
    "\n",
    "    parameters = [fc_W, fc_b, fc_gamma, fc_beta, fc_mean, fc_std]\n",
    "    count = 1\n",
    "    return training_cost, parameters, order"
   ]
  },
  {
   "cell_type": "code",
   "execution_count": 7,
   "metadata": {},
   "outputs": [],
   "source": [
    "def forward(order, X_first, W, b, gamma, beta, mean, std):\n",
    "    cache = dict()\n",
    "    cache['x'] = [X_first]\n",
    "    cache['x_col'] = []\n",
    "    cache['z'] = []\n",
    "    cache['z_bar'] = []\n",
    "    cache['z_y'] = []\n",
    "    cache['z_mean'] = []\n",
    "    cache['z_std'] = []\n",
    "    # Convolution\n",
    "    for layer in range(order[0]):\n",
    "        keyW, keyz = \"CW\" + str(layer), \"Cz\" + str(layer + 1)\n",
    "        cache['x_col'].append(im2col(cache['x'][-1]))\n",
    "        # After Convolution\n",
    "        cache['z'].append(conv(cache['x_col'][-1], W[keyW][0]))\n",
    "        # Batch\n",
    "        z_bar, z_y, z_mean, z_std = nn_batch(cache['z'][-1], gamma[keyz][0], beta[keyz][0], mean[keyz], std[keyz])\n",
    "        cache['z_bar'].append(z_bar)\n",
    "        cache['z_y'].append(z_y)\n",
    "        cache['z_mean'].append(z_mean)\n",
    "        cache['z_std'].append(z_std)\n",
    "        if layer != order[0] - 1:\n",
    "            cache['x'].append(conv_leaky_relu(cache['z_y'][-1]))\n",
    "        else:\n",
    "            k = conv_leaky_relu(cache['z_y'][-1])\n",
    "            cache['x'].append(k.reshape((k.shape[0], k.shape[1] * k.shape[2] * k.shape[3])))\n",
    "    # Fully Connected Neural Network\n",
    "    for layer in range(order[1]):\n",
    "        keyW, keyb, keyz = \"W\" + str(layer), \"b\" + str(layer), \"z\" + str(layer + 1)\n",
    "        cache['z'].append(nn_fc(cache['x'][-1], W[keyW][0], b[keyb][0]))\n",
    "        #Batch\n",
    "        z_bar, z_y, z_mean, z_std = nn_batch(cache['z'][-1], gamma[keyz][0], beta[keyz][0], mean[keyz], std[keyz])\n",
    "        cache['z_bar'].append(z_bar)\n",
    "        cache['z_y'].append(z_y)\n",
    "        cache['z_mean'].append(z_mean)\n",
    "        cache['z_std'].append(z_std)\n",
    "        #softmax\n",
    "        if layer == order[1] - 1:\n",
    "            cache['x'].append(nn_softmax(cache['z_y'][-1]))\n",
    "        else:\n",
    "            cache['x'].append(nn_leaky_relu(cache['z_y'][-1]))\n",
    "    return cache"
   ]
  },
  {
   "cell_type": "code",
   "execution_count": 8,
   "metadata": {},
   "outputs": [],
   "source": [
    "def backward(order, cache, W, b, gamma, beta, mean, std, y, learning_rate, test, lambd):\n",
    "    dy = cache['x'].pop()\n",
    "    #dy /= dy.shape[0]\n",
    "    compare = deque()\n",
    "    for layer in range(order[1] - 1, -1, -1):\n",
    "        keyW, keyb, keyz = \"W\" + str(layer), \"b\" + str(layer), \"z\" + str(layer + 1)\n",
    "        if layer == order[1] - 1:\n",
    "            cache['z_y'].pop()\n",
    "            dy[np.arange(y.shape[0]), y] -= 1\n",
    "            dy /= y.shape[0]\n",
    "        else:\n",
    "            dy[(cache['z_y'].pop()) < 0] *= 0.01\n",
    "        # batch\n",
    "        dy, dgamma, dbeta = nn_grad_batch(cache['z'].pop(), cache['z_bar'].pop(), dy, gamma[keyz][0], \\\n",
    "                                          cache['z_mean'].pop(), cache['z_std'].pop())\n",
    "        if test == True:\n",
    "            compare.append((keyz, \"beta\", dbeta[:3]))\n",
    "            compare.append((keyz, \"gamma\", dgamma[:3]))\n",
    "        update(beta[keyz][0], dbeta, beta[keyz][1], beta[keyz][2], learning_rate)\n",
    "        update(gamma[keyz][0], dgamma, gamma[keyz][1], gamma[keyz][2], learning_rate)\n",
    "        # FC\n",
    "        dW, db, dy = nn_grad(cache['x'].pop(), W[keyW][0], b[keyb][0], dy, lambd)\n",
    "        if test == True:\n",
    "            compare.append((keyb, db[:3]))\n",
    "            compare.append((keyW, dW[:3, :3]))\n",
    "        update(b[keyb][0], db, b[keyb][1], b[keyb][2], learning_rate)\n",
    "        update(W[keyW][0], dW, W[keyW][1], W[keyW][2], learning_rate)\n",
    "    # Convolution\n",
    "    dy = dy.reshape(dy.shape[0], 4, 28, 28)\n",
    "    for layer in range(order[0] - 1, -1, -1):\n",
    "        keyW, keyz = \"CW\" + str(layer), \"Cz\" + str(layer + 1)\n",
    "        # Leaky relu\n",
    "        dy = flatten(dy, (cache['z_y']).pop())\n",
    "        # batch\n",
    "        dy, dgamma, dbeta = nn_grad_batch(cache['z'].pop(), cache['z_bar'].pop(), dy, gamma[keyz][0], \\\n",
    "                                          cache['z_mean'].pop(), cache['z_std'].pop())\n",
    "        if test == True:\n",
    "            compare.append((keyz, \"beta\", dbeta[:3, :3]))\n",
    "            compare.append((keyz, \"gamma\", dgamma[:3, :3]))\n",
    "        update(beta[keyz][0], dbeta, beta[keyz][1], beta[keyz][2], learning_rate)\n",
    "        update(gamma[keyz][0], dgamma, gamma[keyz][1], gamma[keyz][2], learning_rate)\n",
    "        # Conv\n",
    "        dW, dy = nn_conv_grad(cache['x_col'].pop(), W[keyW][0], dy, lambd)\n",
    "        if test == True:\n",
    "            compare.append((keyW, dW[:3, :3]))\n",
    "        update(W[keyW][0], dW, W[keyW][1], W[keyW][2], learning_rate)\n",
    "        dy = col2im(dy, cache['x'].pop())\n",
    "    if test == True:\n",
    "        print(\"Derivation\")\n",
    "        while len(compare) > 0:\n",
    "            a = compare.pop()\n",
    "            print(a[:-1])\n",
    "            print(a[-1])\n",
    "            print()"
   ]
  },
  {
   "cell_type": "code",
   "execution_count": 9,
   "metadata": {},
   "outputs": [],
   "source": [
    "def im2col(X):\n",
    "    temp = np.pad(X, ((0, 0), (0, 0), (1, 1), (1, 1)), 'constant', constant_values = ((0, 0), (0, 0), (0, 0), (0, 0)))\n",
    "    X_col = np.zeros((X.shape[0], X.shape[2] * X.shape[3], 9 * X.shape[1]))\n",
    "    for n in range(X.shape[0]):\n",
    "        count = 0\n",
    "        for i in range(X.shape[2]):\n",
    "            for j in range(X.shape[3]):\n",
    "                X_col[n, count] = temp[n, :, i:i + 3, j:j + 3].reshape(9 * X.shape[1])\n",
    "                count += 1\n",
    "    return X_col"
   ]
  },
  {
   "cell_type": "code",
   "execution_count": 10,
   "metadata": {},
   "outputs": [],
   "source": [
    "def conv(X, W):\n",
    "    # X = N, 28 * 28, 9 * 8, W = 9 * 8, 4\n",
    "    # y = N, 28 * 28, 4\n",
    "    y = np.matmul(X, W)#.transpose(0, 2, 1).reshape((X.shape[0], W.shape[1], 28, 28)\n",
    "    return y"
   ]
  },
  {
   "cell_type": "code",
   "execution_count": 11,
   "metadata": {},
   "outputs": [],
   "source": [
    "def nn_batch(z, z_gamma, z_beta, z_mean, z_std, epsilon = 0.000001):\n",
    "    mean = z.mean(axis = 0)\n",
    "    std = (z.var(axis = 0) + epsilon) ** (1 / 2)\n",
    "    z_mean *= 0.99\n",
    "    z_mean += 0.01 * mean\n",
    "    z_std *= 0.99\n",
    "    z_std += 0.01 * std\n",
    "    z_x_bar = (z - mean) / std\n",
    "    z_y = z_gamma * z_x_bar + z_beta\n",
    "    return z_x_bar, z_y, mean, std"
   ]
  },
  {
   "cell_type": "code",
   "execution_count": 12,
   "metadata": {},
   "outputs": [],
   "source": [
    "def conv_leaky_relu(X):\n",
    "    y = X.transpose(0, 2, 1).reshape(X.shape[0], X.shape[2], 28, 28)\n",
    "    y[y < 0] *= 0.01\n",
    "    return y"
   ]
  },
  {
   "cell_type": "code",
   "execution_count": 13,
   "metadata": {},
   "outputs": [],
   "source": [
    "def nn_fc(X, W, b):\n",
    "    return np.matmul(X, W) + b"
   ]
  },
  {
   "cell_type": "code",
   "execution_count": 14,
   "metadata": {},
   "outputs": [],
   "source": [
    "def nn_leaky_relu(X):\n",
    "    y = X.copy()\n",
    "    y[y < 0] *= 0.01\n",
    "    return y"
   ]
  },
  {
   "cell_type": "code",
   "execution_count": 15,
   "metadata": {},
   "outputs": [],
   "source": [
    "def nn_softmax(x):\n",
    "    y = np.exp(x)\n",
    "    y /= y.sum(axis = 1, keepdims = True)\n",
    "    return y"
   ]
  },
  {
   "cell_type": "code",
   "execution_count": 16,
   "metadata": {},
   "outputs": [],
   "source": [
    "def nn_cost(y, y_hat, W, lambd):\n",
    "    cost = np.sum(-np.log(y_hat[np.arange(y_hat.shape[0]), y])) / y.shape[0]\n",
    "    for key in W:\n",
    "        cost += np.sum(W[key][0] ** 2) * (lambd / (2 * y.shape[0]))\n",
    "    return cost"
   ]
  },
  {
   "cell_type": "code",
   "execution_count": 17,
   "metadata": {},
   "outputs": [],
   "source": [
    "def nn_grad_batch(x, x_bar, dy, gamma, mean, std):\n",
    "    m = x.shape[0]\n",
    "    dx_bar = dy * gamma\n",
    "    dx = (1 / (m * std)) * (m * dx_bar - np.sum(dx_bar, axis=0) - x_bar * np.sum(dx_bar * x_bar, axis=0))\n",
    "    dgamma = np.sum(dy * x_bar, axis = 0)\n",
    "    dbeta = np.sum(dy, axis = 0)\n",
    "    return dx, dgamma, dbeta"
   ]
  },
  {
   "cell_type": "code",
   "execution_count": 18,
   "metadata": {},
   "outputs": [],
   "source": [
    "def nn_grad(x, W, b, dy, lambd):\n",
    "    dW = np.matmul(x.T, dy) + (lambd / x.shape[0]) * W\n",
    "    db = np.sum(dy, axis = 0)\n",
    "    dX = np.matmul(dy, W.T)\n",
    "    return dW, db, dX"
   ]
  },
  {
   "cell_type": "code",
   "execution_count": 19,
   "metadata": {},
   "outputs": [],
   "source": [
    "def flatten(dy, y):\n",
    "    dy = dy.reshape(y.shape[0], y.shape[2], y.shape[1]).transpose(0, 2, 1)\n",
    "    dy[y < 0] *= 0.01\n",
    "    return dy"
   ]
  },
  {
   "cell_type": "code",
   "execution_count": 20,
   "metadata": {},
   "outputs": [],
   "source": [
    "def col2im(X_col, X):\n",
    "    X_im = np.zeros((X.shape[0], X.shape[1], X.shape[2] + 2, X.shape[3] + 2))\n",
    "    for n in range(X_col.shape[0]):\n",
    "        a, b = 0, 0\n",
    "        for i in range(X_col.shape[1]):\n",
    "            X_im[n, :, a:a + 3, b:b + 3] += X_col[n, i].reshape(X.shape[1], 3, 3)\n",
    "            b += 1\n",
    "            if b + 3 > X_im.shape[3]:\n",
    "                a += 1\n",
    "                b = 0\n",
    "    return X_im[:, :, 1:-1, 1:-1]"
   ]
  },
  {
   "cell_type": "code",
   "execution_count": 21,
   "metadata": {},
   "outputs": [],
   "source": [
    "def nn_conv_grad(x, W, dy, lambd):\n",
    "    dW = np.sum(np.matmul(x.transpose(0, 2, 1), dy), axis = 0) + (lambd / x.shape[0]) * W\n",
    "    dX = np.matmul(dy, W.T)\n",
    "    return dW, dX"
   ]
  },
  {
   "cell_type": "code",
   "execution_count": 22,
   "metadata": {},
   "outputs": [],
   "source": [
    "def update(W, dW, Wm, Wv, alpha, beta1 = 0.9, beta2 = 0.999, epsilon = (10 ** (-8))):\n",
    "    global count\n",
    "    alpha *= (1 / 2) ** (count / 100)\n",
    "    Wm *= beta1\n",
    "    Wm += (1 - beta1) * dW\n",
    "    Wv *= beta2\n",
    "    Wv += (1 - beta2) * (dW ** 2)\n",
    "    W -= (alpha * Wm / (1 - (beta1 ** count))) / np.sqrt((Wv / (1 - (beta2 ** count))) + epsilon)"
   ]
  },
  {
   "cell_type": "code",
   "execution_count": 23,
   "metadata": {},
   "outputs": [],
   "source": [
    "def numerical_check(order, X_first, y, W, b, gamma, beta, mean, std, lambd, h = 0.00001):\n",
    "    print(\"Numerical\")\n",
    "    #Convolution\n",
    "    for layer in range(order[0]):\n",
    "        keyW, keyz = \"CW\" + str(layer), \"Cz\" + str(layer + 1)\n",
    "        W_test = np.zeros((3, 3))\n",
    "        gamma_test = np.zeros((3, 3))\n",
    "        beta_test = np.zeros((3, 3))\n",
    "        for i in range(3):\n",
    "            for j in range(3):\n",
    "                W[keyW][0][i][j] += h\n",
    "                cost1 = numerical_forward(order, X_first, y, W, b, gamma, beta, lambd)\n",
    "                W[keyW][0][i][j] -= 2 * h\n",
    "                cost2 = numerical_forward(order, X_first, y, W, b, gamma, beta, lambd)\n",
    "                W_test[i][j] = (cost1 - cost2) / (2 * h)\n",
    "                W[keyW][0][i][j] += h\n",
    "        for i in range(3):\n",
    "            for j in range(3):\n",
    "                gamma[keyz][0][i][j] += h\n",
    "                cost1 = numerical_forward(order, X_first, y, W, b, gamma, beta, lambd)\n",
    "                gamma[keyz][0][i][j] -= 2 * h\n",
    "                cost2 = numerical_forward(order, X_first, y, W, b, gamma, beta, lambd)\n",
    "                gamma_test[i][j] = (cost1 - cost2) / (2 * h)\n",
    "                gamma[keyz][0][i][j] += h\n",
    "        for i in range(3):\n",
    "            for j in range(3):\n",
    "                beta[keyz][0][i][j] += h\n",
    "                cost1 = numerical_forward(order, X_first, y, W, b, gamma, beta, lambd)\n",
    "                beta[keyz][0][i][j] -= 2 * h\n",
    "                cost2 = numerical_forward(order, X_first, y, W, b, gamma, beta, lambd)\n",
    "                beta_test[i][j] = (cost1 - cost2) / (2 * h)\n",
    "                beta[keyz][0][i][j] += h\n",
    "        print((keyW))\n",
    "        print(W_test)\n",
    "        print()\n",
    "        print((keyz, \"gamma\"))\n",
    "        print(gamma_test)\n",
    "        print()\n",
    "        print((keyz, \"beta\"))\n",
    "        print(beta_test)\n",
    "    #Batch\n",
    "    for layer in range(order[1]):\n",
    "        keyW, keyb, keyz = \"W\" + str(layer), \"b\" + str(layer), \"z\" + str(layer + 1)\n",
    "        W_test = np.zeros((3, 3))\n",
    "        b_test = np.zeros(3)\n",
    "        gamma_test = np.zeros(3)\n",
    "        beta_test = np.zeros(3)\n",
    "        for i in range(3):\n",
    "            for j in range(3):\n",
    "                W[keyW][0][i][j] += h\n",
    "                cost1 = numerical_forward(order, X_first, y, W, b, gamma, beta, lambd)\n",
    "                W[keyW][0][i][j] -= 2 * h\n",
    "                cost2 = numerical_forward(order, X_first, y, W, b, gamma, beta, lambd)\n",
    "                W_test[i][j] = (cost1 - cost2) / (2 * h)\n",
    "                W[keyW][0][i][j] += h\n",
    "        for i in range(3):\n",
    "            b[keyb][0][i] += h\n",
    "            cost1 = numerical_forward(order, X_first, y, W, b, gamma, beta, lambd)\n",
    "            b[keyb][0][i] -= 2 * h\n",
    "            cost2 = numerical_forward(order, X_first, y, W, b, gamma, beta, lambd)\n",
    "            b_test[i] = (cost1 - cost2) / (2 * h)\n",
    "            b[keyb][0][i] += h\n",
    "        for i in range(3):\n",
    "            gamma[keyz][0][i] += h\n",
    "            cost1 = numerical_forward(order, X_first, y, W, b, gamma, beta, lambd)\n",
    "            gamma[keyz][0][i] -= 2 * h\n",
    "            cost2 = numerical_forward(order, X_first, y, W, b, gamma, beta, lambd)\n",
    "            gamma_test[i] = (cost1 - cost2) / (2 * h)\n",
    "            gamma[keyz][0][i] += h\n",
    "        for i in range(3):\n",
    "            beta[keyz][0][i] += h\n",
    "            cost1 = numerical_forward(order, X_first, y, W, b, gamma, beta, lambd)\n",
    "            beta[keyz][0][i] -= 2 * h\n",
    "            cost2 = numerical_forward(order, X_first, y, W, b, gamma, beta, lambd)\n",
    "            beta_test[i] = (cost1 - cost2) / (2 * h)\n",
    "            beta[keyz][0][i] += h\n",
    "        print((keyW))\n",
    "        print(W_test)\n",
    "        print()\n",
    "        print((keyb))\n",
    "        print(b_test)\n",
    "        print()\n",
    "        print((keyz, \"gamma\"))\n",
    "        print(gamma_test)\n",
    "        print()\n",
    "        print((keyz, \"beta\"))\n",
    "        print(beta_test)"
   ]
  },
  {
   "cell_type": "code",
   "execution_count": 24,
   "metadata": {},
   "outputs": [],
   "source": [
    "def numerical_forward(order, X_first, y, W, b, gamma, beta, lambd):\n",
    "    #Convolution\n",
    "    y_hat = X_first\n",
    "    for layer in range(order[0]):\n",
    "        keyW, keyz = \"CW\" + str(layer), \"Cz\" + str(layer + 1)\n",
    "        y_hat = im2col(y_hat)\n",
    "        # After Convolution\n",
    "        y_hat = conv(y_hat, W[keyW][0])\n",
    "        # Batch\n",
    "        y_hat = numerical_batch(y_hat, gamma[keyz][0], beta[keyz][0])\n",
    "        if layer != order[0] - 1:\n",
    "            y_hat = conv_leaky_relu(y_hat)\n",
    "        else:\n",
    "            k = conv_leaky_relu(y_hat)\n",
    "            y_hat = k.reshape(k.shape[0], k.shape[1] * k.shape[2] * k.shape[3])\n",
    "    #Batch\n",
    "    for layer in range(order[1]):\n",
    "        keyW, keyb, keyz = \"W\" + str(layer), \"b\" + str(layer), \"z\" + str(layer + 1)\n",
    "        y_hat = nn_fc(y_hat, W[keyW][0], b[keyb][0])\n",
    "        #Batch\n",
    "        y_hat = numerical_batch(y_hat, gamma[keyz][0], beta[keyz][0])\n",
    "        #softmax\n",
    "        if layer == order[1] - 1:\n",
    "            y_hat = nn_softmax(y_hat)\n",
    "        else:\n",
    "            y_hat = nn_leaky_relu(y_hat)\n",
    "    cost = nn_cost(y, y_hat, W, lambd)\n",
    "    return cost"
   ]
  },
  {
   "cell_type": "code",
   "execution_count": 25,
   "metadata": {},
   "outputs": [],
   "source": [
    "def numerical_batch(z, z_gamma, z_beta, epsilon = 0.000001):\n",
    "    mean = z.mean(axis = 0)\n",
    "    std = (z.var(axis = 0) + epsilon) ** (1 / 2)\n",
    "    z_x_bar = (z - mean) / std\n",
    "    z_y = z_gamma * z_x_bar + z_beta\n",
    "    return z_y"
   ]
  },
  {
   "cell_type": "code",
   "execution_count": 26,
   "metadata": {},
   "outputs": [],
   "source": [
    "def predict(X, y, parameters, order):\n",
    "    y_hat = test_forward(X, y, parameters, order)\n",
    "    y_hat = np.argmax(y_hat, axis = 1)\n",
    "    return y_hat"
   ]
  },
  {
   "cell_type": "code",
   "execution_count": 27,
   "metadata": {},
   "outputs": [],
   "source": [
    "def accuracy(X, y, parameters, order):\n",
    "    y_hat = test_forward(X, y, parameters, order)\n",
    "    y_hat = np.argmax(y_hat, axis = 1)\n",
    "    return np.sum(y == y_hat)"
   ]
  },
  {
   "cell_type": "code",
   "execution_count": 28,
   "metadata": {},
   "outputs": [],
   "source": [
    "def test_forward(X, y, parameters, order):\n",
    "    y_hat = X\n",
    "    W, b, gamma, beta, mean, std = parameters\n",
    "    for layer in range(order[0]):\n",
    "        keyW, keyz = \"CW\" + str(layer), \"Cz\" + str(layer + 1)\n",
    "        y_hat = im2col(y_hat)\n",
    "        y_hat = conv(y_hat, W[keyW][0])\n",
    "        y_hat = test_batch(y_hat, mean[keyz], std[keyz], gamma[keyz][0], beta[keyz][0])\n",
    "        if layer != order[0] - 1:\n",
    "            y_hat = conv_leaky_relu(y_hat)\n",
    "        else:\n",
    "            k = conv_leaky_relu(y_hat)\n",
    "            y_hat = k.reshape(k.shape[0], k.shape[1] * k.shape[2] * k.shape[3])\n",
    "\n",
    "    for layer in range(order[1]):\n",
    "        keyW, keyb, keyz = \"W\" + str(layer), \"b\" + str(layer), \"z\" + str(layer + 1)\n",
    "        y_hat = nn_fc(y_hat, W[keyW][0], b[keyb][0])\n",
    "        #Batch\n",
    "        y_hat = test_batch(y_hat, mean[keyz], std[keyz], gamma[keyz][0], beta[keyz][0])\n",
    "        #softmax\n",
    "        if layer != order[1] - 1:\n",
    "            y_hat = nn_leaky_relu(y_hat)\n",
    "    return y_hat"
   ]
  },
  {
   "cell_type": "code",
   "execution_count": 29,
   "metadata": {},
   "outputs": [],
   "source": [
    "def test_batch(z, mean, std, z_gamma, z_beta):\n",
    "    z_x_bar = (z - mean) / std\n",
    "    z_y = z_gamma * z_x_bar + z_beta\n",
    "    return z_y"
   ]
  },
  {
   "cell_type": "code",
   "execution_count": 30,
   "metadata": {
    "scrolled": true
   },
   "outputs": [
    {
     "name": "stdout",
     "output_type": "stream",
     "text": [
      "0 lambda = 0 , iteration finished, Cost = 3.07143362129\n",
      "100 lambda = 0 , iteration finished, Cost = 0.440736557684\n",
      "200 lambda = 0 , iteration finished, Cost = 0.310685860235\n",
      "300 lambda = 0 , iteration finished, Cost = 0.188330600177\n",
      "400 lambda = 0 , iteration finished, Cost = 0.215203676572\n",
      "500 lambda = 0 , iteration finished, Cost = 0.151857726934\n",
      "600 lambda = 0 , iteration finished, Cost = 0.202990221467\n",
      "700 lambda = 0 , iteration finished, Cost = 0.171946274107\n",
      "800 lambda = 0 , iteration finished, Cost = 0.241236623658\n",
      "900 lambda = 0 , iteration finished, Cost = 0.169669222248\n",
      "1000 lambda = 0 , iteration finished, Cost = 0.17798442258\n",
      "1100 lambda = 0 , iteration finished, Cost = 0.17059395453\n",
      "1200 lambda = 0 , iteration finished, Cost = 0.153190464082\n",
      "1300 lambda = 0 , iteration finished, Cost = 0.135935448401\n",
      "1400 lambda = 0 , iteration finished, Cost = 0.185079251189\n",
      "1500 lambda = 0 , iteration finished, Cost = 0.179048854119\n",
      "1600 lambda = 0 , iteration finished, Cost = 0.1438022563\n",
      "1700 lambda = 0 , iteration finished, Cost = 0.159703055057\n",
      "1800 lambda = 0 , iteration finished, Cost = 0.134431005772\n",
      "1900 lambda = 0 , iteration finished, Cost = 0.177027833171\n",
      "2000 lambda = 0 , iteration finished, Cost = 0.133699740264\n",
      "2100 lambda = 0 , iteration finished, Cost = 0.193286737189\n",
      "2200 lambda = 0 , iteration finished, Cost = 0.167318601892\n",
      "2300 lambda = 0 , iteration finished, Cost = 0.238696941117\n",
      "2400 lambda = 0 , iteration finished, Cost = 0.168405430191\n",
      "2500 lambda = 0 , iteration finished, Cost = 0.177117101528\n",
      "2600 lambda = 0 , iteration finished, Cost = 0.170345001135\n"
     ]
    }
   ],
   "source": [
    "L2regul = [0]\n",
    "\n",
    "accuracy_train = []\n",
    "accuracy_cross = []\n",
    "lambd_cost = []\n",
    "lambd_parameters = []\n",
    "\n",
    "for lamb in L2regul:\n",
    "    cost, parameters, order = MNIST_train(X_train, y_train, lambd = lamb)\n",
    "    lambd_parameters.append(parameters)\n",
    "    lambd_cost.append(cost)\n",
    "    acc = 0\n",
    "    for i in range(0, X_train.shape[0], 128):\n",
    "        acc += accuracy(X_train[i:i + 128], y_train[i:i + 128], parameters, order)\n",
    "    accuracy_train.append(acc / X_train.shape[0] * 100)\n",
    "    acc = 0\n",
    "    for i in range(0, X_cross.shape[0], 128):\n",
    "        acc += accuracy(X_cross[i:i + 128], y_cross[i:i + 128], parameters, order)\n",
    "    accuracy_cross.append(acc / X_cross.shape[0] * 100)"
   ]
  },
  {
   "cell_type": "code",
   "execution_count": 31,
   "metadata": {},
   "outputs": [
    {
     "name": "stdout",
     "output_type": "stream",
     "text": [
      "[96.0625] [95.183333333333337]\n"
     ]
    },
    {
     "data": {
      "text/plain": [
       "([<matplotlib.axis.XTick at 0x1d2a1f07d68>],\n",
       " <a list of 1 Text xticklabel objects>)"
      ]
     },
     "execution_count": 31,
     "metadata": {},
     "output_type": "execute_result"
    },
    {
     "data": {
      "image/png": "[encoded data removed]",
      "text/plain": [
       "<matplotlib.figure.Figure at 0x1d2a2185f28>"
      ]
     },
     "metadata": {},
     "output_type": "display_data"
    }
   ],
   "source": [
    "print(accuracy_train, accuracy_cross)\n",
    "\n",
    "plt.plot(range(len(L2regul[:2])), accuracy_train)\n",
    "plt.plot(range(len(L2regul[:2])), accuracy_cross)\n",
    "plt.xlabel(\"iterations\")\n",
    "plt.ylabel(\"error\")\n",
    "plt.title(\"ERROR\")\n",
    "plt.xticks(range(len(L2regul[:2])), L2regul)"
   ]
  },
  {
   "cell_type": "code",
   "execution_count": 32,
   "metadata": {},
   "outputs": [
    {
     "name": "stdout",
     "output_type": "stream",
     "text": [
      "Test accuracy is 95.62 %\n"
     ]
    }
   ],
   "source": [
    "acc = 0\n",
    "for i in range(0, X_test.shape[0], 512):\n",
    "    acc += accuracy(X_test[i:i + 512], y_test[i:i + 512], lambd_parameters[0], order)\n",
    "acc /= X_test.shape[0]\n",
    "\n",
    "print(\"Test accuracy is\", acc * 100, \"%\")"
   ]
  },
  {
   "cell_type": "code",
   "execution_count": 34,
   "metadata": {},
   "outputs": [
    {
     "name": "stdout",
     "output_type": "stream",
     "text": [
      "real class is 7\n",
      "predict = 7\n"
     ]
    },
    {
     "data": {
      "image/png": "[encoded data removed]",
      "text/plain": [
       "<matplotlib.figure.Figure at 0x1d2a2f41390>"
      ]
     },
     "metadata": {},
     "output_type": "display_data"
    }
   ],
   "source": [
    "i = np.random.choice(range(len(X_test)))\n",
    "plt.imshow(X_test[i].reshape((28, 28)), interpolation='nearest')\n",
    "print(\"real class is\", y_test[i])\n",
    "print(\"predict =\", predict(X_test[i:i + 1], y_test[i:i + 1], lambd_parameters[0], order)[0])"
   ]
  },
  {
   "cell_type": "code",
   "execution_count": null,
   "metadata": {},
   "outputs": [],
   "source": [
    "plt.plot(range(len(lambd_cost[0])), lambd_cost[0])"
   ]
  }
 ],
 "metadata": {
  "kernelspec": {
   "display_name": "Python 3",
   "language": "python",
   "name": "python3"
  },
  "language_info": {
   "codemirror_mode": {
    "name": "ipython",
    "version": 3
   },
   "file_extension": ".py",
   "mimetype": "text/x-python",
   "name": "python",
   "nbconvert_exporter": "python",
   "pygments_lexer": "ipython3",
   "version": "3.6.3"
  }
 },
 "nbformat": 4,
 "nbformat_minor": 2
}
